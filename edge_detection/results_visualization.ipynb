{
 "cells": [
  {
   "cell_type": "code",
   "execution_count": 1,
   "metadata": {
    "ExecuteTime": {
     "end_time": "2023-10-10T17:21:54.571808070Z",
     "start_time": "2023-10-10T17:21:52.811097102Z"
    }
   },
   "outputs": [],
   "source": [
    "import numpy as np\n",
    "import scipy as sp\n",
    "import seaborn as sns\n",
    "import pandas as pd\n",
    "import torch\n",
    "import time\n",
    "from tqdm import tqdm\n",
    "from scipy import linalg\n",
    "from sklearn.covariance import graphical_lasso, empirical_covariance, shrunk_covariance, GraphicalLassoCV\n",
    "from sklearn.datasets import make_sparse_spd_matrix\n",
    "from scipy.spatial.distance import squareform\n",
    "from sklearn.metrics import average_precision_score, matthews_corrcoef\n",
    "import matplotlib.pyplot as plt\n",
    "from gglasso.solver.single_admm_solver import ADMM_SGL\n",
    "from gglasso.helper.model_selection import single_grid_search\n",
    "import matplotlib as mpl\n",
    "import utils_mcf"
   ],
   "id": "9eb593a02ae0365b"
  },
  {
   "cell_type": "code",
   "execution_count": 2,
   "metadata": {
    "ExecuteTime": {
     "end_time": "2023-10-10T17:21:57.843442240Z",
     "start_time": "2023-10-10T17:21:56.846986484Z"
    }
   },
   "outputs": [],
   "source": [
    "import rpy2.robjects.packages as rpackages\n",
    "import anndata2ri\n",
    "\n",
    "anndata2ri.activate()\n",
    "%load_ext rpy2.ipython"
   ],
   "id": "3875cdacb9aedfeb"
  },
  {
   "cell_type": "code",
   "execution_count": 3,
   "metadata": {
    "ExecuteTime": {
     "end_time": "2023-10-10T17:21:59.249810334Z",
     "start_time": "2023-10-10T17:21:59.220143766Z"
    }
   },
   "outputs": [],
   "source": [
    "def structure_error(true, pred, thresholding=False, eps=1e-2, no_diagonal=False):\n",
    "    \"\"\"\n",
    "    + + + Code taken from https://github.com/fdtomasi/regain + + +\n",
    "    \n",
    "    Error in structure between a precision matrix and predicted.\n",
    "\n",
    "    Parameters\n",
    "    ----------\n",
    "    true: array-like\n",
    "        True matrix. In grpahical inference, if an entry is different from 0\n",
    "        it is consider as an edge (inverse covariance).\n",
    "\n",
    "    pred: array-like, shape=(d,d)\n",
    "        Predicted matrix. In graphical inference, if an entry is different\n",
    "        from 0 it is consider as an edge (inverse covariance).\n",
    "\n",
    "    thresholding: bool, default False,\n",
    "       Apply a threshold (with eps) to the `pred` matrix.\n",
    "\n",
    "    eps : float, default = 1e-2\n",
    "        Apply a threshold (with eps) to the `pred` matrix.\n",
    "\n",
    "    \"\"\"\n",
    "    # avoid inplace modifications\n",
    "    true = true.copy()\n",
    "    pred = pred.copy()\n",
    "    if true.ndim > 2:\n",
    "        y_true = np.array(flatten([squareform(x, checks=None) for x in true]))\n",
    "        y_pred = np.array(flatten([squareform(x, checks=None) for x in pred]))\n",
    "    else:\n",
    "        y_true = squareform(true, checks=None)\n",
    "        y_pred = squareform(pred, checks=None)\n",
    "\n",
    "    average_precision = average_precision_score(y_true > 0, y_pred)\n",
    "    mcc = matthews_corrcoef(y_true > 0, y_pred > 0)\n",
    "\n",
    "    if thresholding:\n",
    "        pred[np.abs(pred) < eps] = 0\n",
    "    tn_to_remove = 0\n",
    "    if no_diagonal:\n",
    "        if true.ndim > 2:\n",
    "            true = np.array([t - np.diag(np.diag(t)) for t in true])\n",
    "            pred = np.array([t - np.diag(np.diag(t)) for t in pred])\n",
    "            tn_to_remove = np.prod(true.shape[:2])\n",
    "        else:\n",
    "            true -= np.diag(np.diag(true))\n",
    "            pred -= np.diag(np.diag(pred))\n",
    "            tn_to_remove = true.shape[0]\n",
    "    true[true != 0] = 1\n",
    "    pred[pred != 0] = 2\n",
    "    res = true + pred\n",
    "    # from collections import Counter\n",
    "    # c = Counter(res.flat)\n",
    "    # tn, fn, fp, tp = c[0], c[1], c[2], c[3]\n",
    "    TN = np.count_nonzero((res == 0).astype(float)) - tn_to_remove\n",
    "    FN = np.count_nonzero((res == 1).astype(float))\n",
    "    FP = np.count_nonzero((res == 2).astype(float))\n",
    "    TP = np.count_nonzero((res == 3).astype(float))\n",
    "\n",
    "    precision = TP / (TP + FP) if TP + FP > 0 else 0\n",
    "    recall = TP / (TP + FN)\n",
    "    miss_rate = FN / (TP + FN) or 1 - recall\n",
    "    f1 = 2 * precision * recall / (precision + recall) if precision + recall > 0 else 0\n",
    "\n",
    "    accuracy = (TP + TN) / true.size\n",
    "    prevalence = (TP + FN) / true.size\n",
    "\n",
    "    fall_out = FP / (FP + TN) if (FP + TN) > 0 else 1\n",
    "    specificity = TN / (FP + TN) if (FP + TN) > 0 else 1.0 - fall_out\n",
    "\n",
    "    balanced_accuracy = 0.5 * (recall + specificity)\n",
    "    false_discovery_rate = FP / (TP + FP) if TP + FP > 0 else 1 - precision\n",
    "    false_omission_rate = FN / (FN + TN) if FN + TN > 0 else 0\n",
    "    negative_predicted_value = (\n",
    "        TN / (FN + TN) if FN + TN > 0 else 1 - false_omission_rate\n",
    "    )\n",
    "\n",
    "    positive_likelihood_ratio = recall / fall_out if fall_out > 0 else 0\n",
    "    negative_likelihood_ratio = miss_rate / specificity if specificity > 0 else 0\n",
    "    diagnostic_odds_ratio = (\n",
    "        positive_likelihood_ratio / negative_likelihood_ratio\n",
    "        if negative_likelihood_ratio > 0\n",
    "        else 0\n",
    "    )\n",
    "\n",
    "    dictionary = dict(\n",
    "        tp=TP,\n",
    "        tn=TN,\n",
    "        fp=FP,\n",
    "        fn=FN,\n",
    "        precision=precision,\n",
    "        recall=recall,\n",
    "        f1=f1,\n",
    "        accuracy=accuracy,\n",
    "        false_omission_rate=false_omission_rate,\n",
    "        fdr=false_discovery_rate,\n",
    "        npv=negative_predicted_value,\n",
    "        prevalence=prevalence,\n",
    "        miss_rate=miss_rate,\n",
    "        fall_out=fall_out,\n",
    "        specificity=specificity,\n",
    "        plr=positive_likelihood_ratio,\n",
    "        nlr=negative_likelihood_ratio,\n",
    "        dor=diagnostic_odds_ratio,\n",
    "        balanced_accuracy=balanced_accuracy,\n",
    "        average_precision=average_precision,\n",
    "        mcc=mcc,\n",
    "    )\n",
    "    return dictionary\n"
   ],
   "id": "72c2fb91db3bb50"
  },
  {
   "cell_type": "code",
   "execution_count": 4,
   "metadata": {
    "ExecuteTime": {
     "end_time": "2023-10-10T17:22:01.861005379Z",
     "start_time": "2023-10-10T17:22:00.130859388Z"
    }
   },
   "outputs": [],
   "source": [
    "d = 30 # number of features\n",
    "seeds = [1, 2, 3, 4, 5, 6, 7, 8, 9, 10] # to generate 10 different ground truth precision matrices\n",
    "n_samples = [10, 15, 20, 25, 30, 35, 40, 45 ,50]\n",
    "p_values =  [0.1, 0.25, 0.5, 0.75, 1]\n",
    "penalties = ['atan', 'selo', 'exp', 'log', 'sica', 'scad', 'mcp', 'adapt', 'lasso']\n",
    "# some of the above algorithms (penalties) struggle in very low sample regimes,\n",
    "# so we consider the minimal working number of samples for each method separately\n",
    "left_outs = dict(zip(penalties, [0, 0, 2, 0, 0, 3, 4, 0, 0])) \n",
    "\n",
    "# generate 10 sparse precision matrices of dimendion d x d \n",
    "W_list, X_list = [], []\n",
    "for seed in seeds:\n",
    "    np.random.seed(seed)\n",
    "    W = make_sparse_spd_matrix(d, alpha=0.9, random_state=2)\n",
    "    cov = sp.linalg.inv(W)\n",
    "    distr = sp.stats.multivariate_normal(mean=np.zeros(d), cov=cov)\n",
    "    X = distr.rvs(100_000)\n",
    "    W_list.append(W)\n",
    "    X_list.append(X)"
   ],
   "id": "7186531b9850f231"
  },
  {
   "cell_type": "markdown",
   "metadata": {},
   "source": [
    "### Conditional Matrix Flows"
   ],
   "id": "3d94c26221e496d5"
  },
  {
   "cell_type": "code",
   "execution_count": 19,
   "metadata": {
    "ExecuteTime": {
     "end_time": "2023-10-10T16:39:01.676220664Z",
     "start_time": "2023-10-10T16:23:59.428150946Z"
    }
   },
   "outputs": [
    {
     "name": "stdout",
     "output_type": "stream",
     "text": [
      "==============================   0   ==============================\n",
      "10\n"
     ]
    },
    {
     "name": "stderr",
     "output_type": "stream",
     "text": [
      "100%|██████████| 200/200 [00:01<00:00, 143.63it/s]\n",
      "100%|██████████| 200/200 [00:01<00:00, 145.59it/s]\n",
      "100%|██████████| 200/200 [00:01<00:00, 143.92it/s]\n",
      "100%|██████████| 200/200 [00:01<00:00, 139.45it/s]\n"
     ]
    },
    {
     "name": "stdout",
     "output_type": "stream",
     "text": [
      "15\n"
     ]
    },
    {
     "name": "stderr",
     "output_type": "stream",
     "text": [
      "100%|██████████| 200/200 [00:01<00:00, 139.49it/s]\n",
      "100%|██████████| 200/200 [00:01<00:00, 136.36it/s]\n",
      "100%|██████████| 200/200 [00:01<00:00, 130.21it/s]\n",
      "100%|██████████| 200/200 [00:01<00:00, 132.86it/s]\n"
     ]
    },
    {
     "name": "stdout",
     "output_type": "stream",
     "text": [
      "20\n"
     ]
    },
    {
     "name": "stderr",
     "output_type": "stream",
     "text": [
      "100%|██████████| 200/200 [00:01<00:00, 138.37it/s]\n",
      "100%|██████████| 200/200 [00:01<00:00, 132.09it/s]\n",
      "100%|██████████| 200/200 [00:01<00:00, 138.06it/s]\n",
      "100%|██████████| 200/200 [00:01<00:00, 136.90it/s]\n"
     ]
    },
    {
     "name": "stdout",
     "output_type": "stream",
     "text": [
      "25\n"
     ]
    },
    {
     "name": "stderr",
     "output_type": "stream",
     "text": [
      "100%|██████████| 200/200 [00:01<00:00, 141.36it/s]\n",
      "100%|██████████| 200/200 [00:01<00:00, 140.87it/s]\n",
      "100%|██████████| 200/200 [00:01<00:00, 137.63it/s]\n",
      "100%|██████████| 200/200 [00:01<00:00, 138.67it/s]\n"
     ]
    },
    {
     "name": "stdout",
     "output_type": "stream",
     "text": [
      "30\n"
     ]
    },
    {
     "name": "stderr",
     "output_type": "stream",
     "text": [
      "100%|██████████| 200/200 [00:01<00:00, 143.62it/s]\n",
      "100%|██████████| 200/200 [00:01<00:00, 138.45it/s]\n",
      "100%|██████████| 200/200 [00:01<00:00, 140.14it/s]\n",
      "100%|██████████| 200/200 [00:01<00:00, 137.52it/s]\n"
     ]
    },
    {
     "name": "stdout",
     "output_type": "stream",
     "text": [
      "35\n"
     ]
    },
    {
     "name": "stderr",
     "output_type": "stream",
     "text": [
      "100%|██████████| 200/200 [00:01<00:00, 121.96it/s]\n",
      "100%|██████████| 200/200 [00:01<00:00, 136.83it/s]\n",
      "100%|██████████| 200/200 [00:01<00:00, 141.59it/s]\n",
      "100%|██████████| 200/200 [00:01<00:00, 132.96it/s]\n"
     ]
    },
    {
     "name": "stdout",
     "output_type": "stream",
     "text": [
      "40\n"
     ]
    },
    {
     "name": "stderr",
     "output_type": "stream",
     "text": [
      "100%|██████████| 200/200 [00:01<00:00, 136.86it/s]\n",
      "100%|██████████| 200/200 [00:01<00:00, 131.43it/s]\n",
      "100%|██████████| 200/200 [00:01<00:00, 134.83it/s]\n",
      "100%|██████████| 200/200 [00:01<00:00, 131.75it/s]\n"
     ]
    },
    {
     "name": "stdout",
     "output_type": "stream",
     "text": [
      "45\n"
     ]
    },
    {
     "name": "stderr",
     "output_type": "stream",
     "text": [
      "100%|██████████| 200/200 [00:01<00:00, 134.96it/s]\n",
      "100%|██████████| 200/200 [00:01<00:00, 142.50it/s]\n",
      "100%|██████████| 200/200 [00:01<00:00, 136.87it/s]\n",
      "100%|██████████| 200/200 [00:01<00:00, 130.46it/s]\n"
     ]
    },
    {
     "name": "stdout",
     "output_type": "stream",
     "text": [
      "50\n"
     ]
    },
    {
     "name": "stderr",
     "output_type": "stream",
     "text": [
      "100%|██████████| 200/200 [00:01<00:00, 135.22it/s]\n",
      "100%|██████████| 200/200 [00:01<00:00, 143.92it/s]\n",
      "100%|██████████| 200/200 [00:01<00:00, 147.15it/s]\n",
      "100%|██████████| 200/200 [00:01<00:00, 140.02it/s]\n"
     ]
    },
    {
     "name": "stdout",
     "output_type": "stream",
     "text": [
      "==============================   1   ==============================\n",
      "10\n"
     ]
    },
    {
     "name": "stderr",
     "output_type": "stream",
     "text": [
      "100%|██████████| 200/200 [00:01<00:00, 133.34it/s]\n",
      "100%|██████████| 200/200 [00:01<00:00, 145.01it/s]\n",
      "100%|██████████| 200/200 [00:01<00:00, 141.50it/s]\n",
      "100%|██████████| 200/200 [00:01<00:00, 143.51it/s]\n"
     ]
    },
    {
     "name": "stdout",
     "output_type": "stream",
     "text": [
      "15\n"
     ]
    },
    {
     "name": "stderr",
     "output_type": "stream",
     "text": [
      "100%|██████████| 200/200 [00:01<00:00, 133.32it/s]\n",
      "100%|██████████| 200/200 [00:01<00:00, 146.06it/s]\n",
      "100%|██████████| 200/200 [00:01<00:00, 147.98it/s]\n",
      "100%|██████████| 200/200 [00:01<00:00, 147.95it/s]\n"
     ]
    },
    {
     "name": "stdout",
     "output_type": "stream",
     "text": [
      "20\n"
     ]
    },
    {
     "name": "stderr",
     "output_type": "stream",
     "text": [
      "100%|██████████| 200/200 [00:01<00:00, 140.98it/s]\n",
      "100%|██████████| 200/200 [00:01<00:00, 148.00it/s]\n",
      "100%|██████████| 200/200 [00:01<00:00, 147.67it/s]\n",
      "100%|██████████| 200/200 [00:01<00:00, 146.55it/s]\n"
     ]
    },
    {
     "name": "stdout",
     "output_type": "stream",
     "text": [
      "25\n"
     ]
    },
    {
     "name": "stderr",
     "output_type": "stream",
     "text": [
      "100%|██████████| 200/200 [00:01<00:00, 134.44it/s]\n",
      "100%|██████████| 200/200 [00:01<00:00, 141.57it/s]\n",
      "100%|██████████| 200/200 [00:01<00:00, 136.86it/s]\n",
      "100%|██████████| 200/200 [00:01<00:00, 144.47it/s]\n"
     ]
    },
    {
     "name": "stdout",
     "output_type": "stream",
     "text": [
      "30\n"
     ]
    },
    {
     "name": "stderr",
     "output_type": "stream",
     "text": [
      "100%|██████████| 200/200 [00:01<00:00, 133.74it/s]\n",
      "100%|██████████| 200/200 [00:01<00:00, 143.94it/s]\n",
      "100%|██████████| 200/200 [00:01<00:00, 144.36it/s]\n",
      "100%|██████████| 200/200 [00:01<00:00, 143.32it/s]\n"
     ]
    },
    {
     "name": "stdout",
     "output_type": "stream",
     "text": [
      "35\n"
     ]
    },
    {
     "name": "stderr",
     "output_type": "stream",
     "text": [
      "100%|██████████| 200/200 [00:01<00:00, 138.43it/s]\n",
      "100%|██████████| 200/200 [00:01<00:00, 142.91it/s]\n",
      "100%|██████████| 200/200 [00:01<00:00, 144.51it/s]\n",
      "100%|██████████| 200/200 [00:01<00:00, 143.72it/s]\n"
     ]
    },
    {
     "name": "stdout",
     "output_type": "stream",
     "text": [
      "40\n"
     ]
    },
    {
     "name": "stderr",
     "output_type": "stream",
     "text": [
      "100%|██████████| 200/200 [00:01<00:00, 133.83it/s]\n",
      "100%|██████████| 200/200 [00:01<00:00, 139.97it/s]\n",
      "100%|██████████| 200/200 [00:01<00:00, 139.93it/s]\n",
      "100%|██████████| 200/200 [00:01<00:00, 139.56it/s]\n"
     ]
    },
    {
     "name": "stdout",
     "output_type": "stream",
     "text": [
      "45\n"
     ]
    },
    {
     "name": "stderr",
     "output_type": "stream",
     "text": [
      "100%|██████████| 200/200 [00:01<00:00, 132.56it/s]\n",
      "100%|██████████| 200/200 [00:01<00:00, 134.97it/s]\n",
      "100%|██████████| 200/200 [00:01<00:00, 132.44it/s]\n",
      "100%|██████████| 200/200 [00:01<00:00, 138.58it/s]\n"
     ]
    },
    {
     "name": "stdout",
     "output_type": "stream",
     "text": [
      "50\n"
     ]
    },
    {
     "name": "stderr",
     "output_type": "stream",
     "text": [
      "100%|██████████| 200/200 [00:01<00:00, 132.81it/s]\n",
      "100%|██████████| 200/200 [00:01<00:00, 139.47it/s]\n",
      "100%|██████████| 200/200 [00:01<00:00, 142.90it/s]\n",
      "100%|██████████| 200/200 [00:01<00:00, 144.64it/s]\n"
     ]
    },
    {
     "name": "stdout",
     "output_type": "stream",
     "text": [
      "==============================   2   ==============================\n",
      "10\n"
     ]
    },
    {
     "name": "stderr",
     "output_type": "stream",
     "text": [
      "100%|██████████| 200/200 [00:01<00:00, 142.55it/s]\n",
      "100%|██████████| 200/200 [00:01<00:00, 139.81it/s]\n",
      "100%|██████████| 200/200 [00:01<00:00, 143.68it/s]\n",
      "100%|██████████| 200/200 [00:01<00:00, 137.76it/s]\n"
     ]
    },
    {
     "name": "stdout",
     "output_type": "stream",
     "text": [
      "15\n"
     ]
    },
    {
     "name": "stderr",
     "output_type": "stream",
     "text": [
      "100%|██████████| 200/200 [00:01<00:00, 129.70it/s]\n",
      "100%|██████████| 200/200 [00:01<00:00, 136.49it/s]\n",
      "100%|██████████| 200/200 [00:01<00:00, 144.30it/s]\n",
      "100%|██████████| 200/200 [00:01<00:00, 145.18it/s]\n"
     ]
    },
    {
     "name": "stdout",
     "output_type": "stream",
     "text": [
      "20\n"
     ]
    },
    {
     "name": "stderr",
     "output_type": "stream",
     "text": [
      "100%|██████████| 200/200 [00:01<00:00, 130.25it/s]\n",
      "100%|██████████| 200/200 [00:01<00:00, 134.26it/s]\n",
      "100%|██████████| 200/200 [00:01<00:00, 142.58it/s]\n",
      "100%|██████████| 200/200 [00:01<00:00, 142.28it/s]\n"
     ]
    },
    {
     "name": "stdout",
     "output_type": "stream",
     "text": [
      "25\n"
     ]
    },
    {
     "name": "stderr",
     "output_type": "stream",
     "text": [
      "100%|██████████| 200/200 [00:01<00:00, 136.18it/s]\n",
      "100%|██████████| 200/200 [00:01<00:00, 146.56it/s]\n",
      "100%|██████████| 200/200 [00:01<00:00, 142.28it/s]\n",
      "100%|██████████| 200/200 [00:01<00:00, 140.09it/s]\n"
     ]
    },
    {
     "name": "stdout",
     "output_type": "stream",
     "text": [
      "30\n"
     ]
    },
    {
     "name": "stderr",
     "output_type": "stream",
     "text": [
      "100%|██████████| 200/200 [00:01<00:00, 139.89it/s]\n",
      "100%|██████████| 200/200 [00:01<00:00, 144.31it/s]\n",
      "100%|██████████| 200/200 [00:01<00:00, 143.09it/s]\n",
      "100%|██████████| 200/200 [00:01<00:00, 145.95it/s]\n"
     ]
    },
    {
     "name": "stdout",
     "output_type": "stream",
     "text": [
      "35\n"
     ]
    },
    {
     "name": "stderr",
     "output_type": "stream",
     "text": [
      "100%|██████████| 200/200 [00:01<00:00, 139.48it/s]\n",
      "100%|██████████| 200/200 [00:01<00:00, 135.15it/s]\n",
      "100%|██████████| 200/200 [00:01<00:00, 144.57it/s]\n",
      "100%|██████████| 200/200 [00:01<00:00, 138.97it/s]\n"
     ]
    },
    {
     "name": "stdout",
     "output_type": "stream",
     "text": [
      "40\n"
     ]
    },
    {
     "name": "stderr",
     "output_type": "stream",
     "text": [
      "100%|██████████| 200/200 [00:01<00:00, 139.58it/s]\n",
      "100%|██████████| 200/200 [00:01<00:00, 141.28it/s]\n",
      "100%|██████████| 200/200 [00:01<00:00, 134.00it/s]\n",
      "100%|██████████| 200/200 [00:01<00:00, 145.24it/s]\n"
     ]
    },
    {
     "name": "stdout",
     "output_type": "stream",
     "text": [
      "45\n"
     ]
    },
    {
     "name": "stderr",
     "output_type": "stream",
     "text": [
      "100%|██████████| 200/200 [00:01<00:00, 138.18it/s]\n",
      "100%|██████████| 200/200 [00:01<00:00, 137.25it/s]\n",
      "100%|██████████| 200/200 [00:01<00:00, 141.01it/s]\n",
      "100%|██████████| 200/200 [00:01<00:00, 144.32it/s]\n"
     ]
    },
    {
     "name": "stdout",
     "output_type": "stream",
     "text": [
      "50\n"
     ]
    },
    {
     "name": "stderr",
     "output_type": "stream",
     "text": [
      "100%|██████████| 200/200 [00:01<00:00, 136.79it/s]\n",
      "100%|██████████| 200/200 [00:01<00:00, 143.40it/s]\n",
      "100%|██████████| 200/200 [00:01<00:00, 142.90it/s]\n",
      "100%|██████████| 200/200 [00:01<00:00, 141.93it/s]\n"
     ]
    },
    {
     "name": "stdout",
     "output_type": "stream",
     "text": [
      "==============================   3   ==============================\n",
      "10\n"
     ]
    },
    {
     "name": "stderr",
     "output_type": "stream",
     "text": [
      "100%|██████████| 200/200 [00:01<00:00, 138.01it/s]\n",
      "100%|██████████| 200/200 [00:01<00:00, 141.58it/s]\n",
      "100%|██████████| 200/200 [00:01<00:00, 144.52it/s]\n",
      "100%|██████████| 200/200 [00:01<00:00, 138.58it/s]\n"
     ]
    },
    {
     "name": "stdout",
     "output_type": "stream",
     "text": [
      "15\n"
     ]
    },
    {
     "name": "stderr",
     "output_type": "stream",
     "text": [
      "100%|██████████| 200/200 [00:01<00:00, 137.70it/s]\n",
      "100%|██████████| 200/200 [00:01<00:00, 141.37it/s]\n",
      "100%|██████████| 200/200 [00:01<00:00, 141.05it/s]\n",
      "100%|██████████| 200/200 [00:01<00:00, 141.38it/s]\n"
     ]
    },
    {
     "name": "stdout",
     "output_type": "stream",
     "text": [
      "20\n"
     ]
    },
    {
     "name": "stderr",
     "output_type": "stream",
     "text": [
      "100%|██████████| 200/200 [00:01<00:00, 135.61it/s]\n",
      "100%|██████████| 200/200 [00:01<00:00, 145.00it/s]\n",
      "100%|██████████| 200/200 [00:01<00:00, 143.87it/s]\n",
      "100%|██████████| 200/200 [00:01<00:00, 145.09it/s]\n"
     ]
    },
    {
     "name": "stdout",
     "output_type": "stream",
     "text": [
      "25\n"
     ]
    },
    {
     "name": "stderr",
     "output_type": "stream",
     "text": [
      "100%|██████████| 200/200 [00:01<00:00, 136.11it/s]\n",
      "100%|██████████| 200/200 [00:01<00:00, 136.63it/s]\n",
      "100%|██████████| 200/200 [00:01<00:00, 141.41it/s]\n",
      "100%|██████████| 200/200 [00:01<00:00, 145.26it/s]\n"
     ]
    },
    {
     "name": "stdout",
     "output_type": "stream",
     "text": [
      "30\n"
     ]
    },
    {
     "name": "stderr",
     "output_type": "stream",
     "text": [
      "100%|██████████| 200/200 [00:01<00:00, 140.31it/s]\n",
      "100%|██████████| 200/200 [00:01<00:00, 145.83it/s]\n",
      "100%|██████████| 200/200 [00:01<00:00, 145.83it/s]\n",
      "100%|██████████| 200/200 [00:01<00:00, 144.55it/s]\n"
     ]
    },
    {
     "name": "stdout",
     "output_type": "stream",
     "text": [
      "35\n"
     ]
    },
    {
     "name": "stderr",
     "output_type": "stream",
     "text": [
      "100%|██████████| 200/200 [00:01<00:00, 137.85it/s]\n",
      "100%|██████████| 200/200 [00:01<00:00, 140.76it/s]\n",
      "100%|██████████| 200/200 [00:01<00:00, 136.85it/s]\n",
      "100%|██████████| 200/200 [00:01<00:00, 138.95it/s]\n"
     ]
    },
    {
     "name": "stdout",
     "output_type": "stream",
     "text": [
      "40\n"
     ]
    },
    {
     "name": "stderr",
     "output_type": "stream",
     "text": [
      "100%|██████████| 200/200 [00:01<00:00, 139.57it/s]\n",
      "100%|██████████| 200/200 [00:01<00:00, 148.88it/s]\n",
      "100%|██████████| 200/200 [00:01<00:00, 148.93it/s]\n",
      "100%|██████████| 200/200 [00:01<00:00, 143.87it/s]\n"
     ]
    },
    {
     "name": "stdout",
     "output_type": "stream",
     "text": [
      "45\n"
     ]
    },
    {
     "name": "stderr",
     "output_type": "stream",
     "text": [
      "100%|██████████| 200/200 [00:01<00:00, 135.32it/s]\n",
      "100%|██████████| 200/200 [00:01<00:00, 138.63it/s]\n",
      "100%|██████████| 200/200 [00:01<00:00, 147.15it/s]\n",
      "100%|██████████| 200/200 [00:01<00:00, 140.31it/s]\n"
     ]
    },
    {
     "name": "stdout",
     "output_type": "stream",
     "text": [
      "50\n"
     ]
    },
    {
     "name": "stderr",
     "output_type": "stream",
     "text": [
      "100%|██████████| 200/200 [00:01<00:00, 136.16it/s]\n",
      "100%|██████████| 200/200 [00:01<00:00, 139.92it/s]\n",
      "100%|██████████| 200/200 [00:01<00:00, 137.66it/s]\n",
      "100%|██████████| 200/200 [00:01<00:00, 139.55it/s]\n"
     ]
    },
    {
     "name": "stdout",
     "output_type": "stream",
     "text": [
      "==============================   4   ==============================\n",
      "10\n"
     ]
    },
    {
     "name": "stderr",
     "output_type": "stream",
     "text": [
      "100%|██████████| 200/200 [00:01<00:00, 139.61it/s]\n",
      "100%|██████████| 200/200 [00:01<00:00, 147.41it/s]\n",
      "100%|██████████| 200/200 [00:01<00:00, 147.13it/s]\n",
      "100%|██████████| 200/200 [00:01<00:00, 140.86it/s]\n"
     ]
    },
    {
     "name": "stdout",
     "output_type": "stream",
     "text": [
      "15\n"
     ]
    },
    {
     "name": "stderr",
     "output_type": "stream",
     "text": [
      "100%|██████████| 200/200 [00:01<00:00, 139.02it/s]\n",
      "100%|██████████| 200/200 [00:01<00:00, 141.05it/s]\n",
      "100%|██████████| 200/200 [00:01<00:00, 144.91it/s]\n",
      "100%|██████████| 200/200 [00:01<00:00, 144.35it/s]\n"
     ]
    },
    {
     "name": "stdout",
     "output_type": "stream",
     "text": [
      "20\n"
     ]
    },
    {
     "name": "stderr",
     "output_type": "stream",
     "text": [
      "100%|██████████| 200/200 [00:01<00:00, 143.15it/s]\n",
      "100%|██████████| 200/200 [00:01<00:00, 140.79it/s]\n",
      "100%|██████████| 200/200 [00:01<00:00, 140.33it/s]\n",
      "100%|██████████| 200/200 [00:01<00:00, 146.69it/s]\n"
     ]
    },
    {
     "name": "stdout",
     "output_type": "stream",
     "text": [
      "25\n"
     ]
    },
    {
     "name": "stderr",
     "output_type": "stream",
     "text": [
      "100%|██████████| 200/200 [00:01<00:00, 141.36it/s]\n",
      "100%|██████████| 200/200 [00:01<00:00, 143.19it/s]\n",
      "100%|██████████| 200/200 [00:01<00:00, 143.66it/s]\n",
      "100%|██████████| 200/200 [00:01<00:00, 146.08it/s]\n"
     ]
    },
    {
     "name": "stdout",
     "output_type": "stream",
     "text": [
      "30\n"
     ]
    },
    {
     "name": "stderr",
     "output_type": "stream",
     "text": [
      "100%|██████████| 200/200 [00:01<00:00, 137.28it/s]\n",
      "100%|██████████| 200/200 [00:01<00:00, 145.63it/s]\n",
      "100%|██████████| 200/200 [00:01<00:00, 145.91it/s]\n",
      "100%|██████████| 200/200 [00:01<00:00, 142.54it/s]\n"
     ]
    },
    {
     "name": "stdout",
     "output_type": "stream",
     "text": [
      "35\n"
     ]
    },
    {
     "name": "stderr",
     "output_type": "stream",
     "text": [
      "100%|██████████| 200/200 [00:01<00:00, 139.71it/s]\n",
      "100%|██████████| 200/200 [00:01<00:00, 140.83it/s]\n",
      "100%|██████████| 200/200 [00:01<00:00, 145.71it/s]\n",
      "100%|██████████| 200/200 [00:01<00:00, 145.17it/s]\n"
     ]
    },
    {
     "name": "stdout",
     "output_type": "stream",
     "text": [
      "40\n"
     ]
    },
    {
     "name": "stderr",
     "output_type": "stream",
     "text": [
      "100%|██████████| 200/200 [00:01<00:00, 139.39it/s]\n",
      "100%|██████████| 200/200 [00:01<00:00, 137.88it/s]\n",
      "100%|██████████| 200/200 [00:01<00:00, 140.44it/s]\n",
      "100%|██████████| 200/200 [00:01<00:00, 140.28it/s]\n"
     ]
    },
    {
     "name": "stdout",
     "output_type": "stream",
     "text": [
      "45\n"
     ]
    },
    {
     "name": "stderr",
     "output_type": "stream",
     "text": [
      "100%|██████████| 200/200 [00:01<00:00, 141.17it/s]\n",
      "100%|██████████| 200/200 [00:01<00:00, 144.49it/s]\n",
      "100%|██████████| 200/200 [00:01<00:00, 139.03it/s]\n",
      "100%|██████████| 200/200 [00:01<00:00, 137.36it/s]\n"
     ]
    },
    {
     "name": "stdout",
     "output_type": "stream",
     "text": [
      "50\n"
     ]
    },
    {
     "name": "stderr",
     "output_type": "stream",
     "text": [
      "100%|██████████| 200/200 [00:01<00:00, 140.86it/s]\n",
      "100%|██████████| 200/200 [00:01<00:00, 143.73it/s]\n",
      "100%|██████████| 200/200 [00:01<00:00, 142.79it/s]\n",
      "100%|██████████| 200/200 [00:01<00:00, 142.70it/s]\n"
     ]
    },
    {
     "name": "stdout",
     "output_type": "stream",
     "text": [
      "==============================   5   ==============================\n",
      "10\n"
     ]
    },
    {
     "name": "stderr",
     "output_type": "stream",
     "text": [
      "100%|██████████| 200/200 [00:01<00:00, 136.09it/s]\n",
      "100%|██████████| 200/200 [00:01<00:00, 143.13it/s]\n",
      "100%|██████████| 200/200 [00:01<00:00, 136.13it/s]\n",
      "100%|██████████| 200/200 [00:01<00:00, 135.80it/s]\n"
     ]
    },
    {
     "name": "stdout",
     "output_type": "stream",
     "text": [
      "15\n"
     ]
    },
    {
     "name": "stderr",
     "output_type": "stream",
     "text": [
      "100%|██████████| 200/200 [00:01<00:00, 137.47it/s]\n",
      "100%|██████████| 200/200 [00:01<00:00, 138.37it/s]\n",
      "100%|██████████| 200/200 [00:01<00:00, 139.40it/s]\n",
      "100%|██████████| 200/200 [00:01<00:00, 139.92it/s]\n"
     ]
    },
    {
     "name": "stdout",
     "output_type": "stream",
     "text": [
      "20\n"
     ]
    },
    {
     "name": "stderr",
     "output_type": "stream",
     "text": [
      "100%|██████████| 200/200 [00:01<00:00, 134.74it/s]\n",
      "100%|██████████| 200/200 [00:01<00:00, 141.17it/s]\n",
      "100%|██████████| 200/200 [00:01<00:00, 141.25it/s]\n",
      "100%|██████████| 200/200 [00:01<00:00, 145.37it/s]\n"
     ]
    },
    {
     "name": "stdout",
     "output_type": "stream",
     "text": [
      "25\n"
     ]
    },
    {
     "name": "stderr",
     "output_type": "stream",
     "text": [
      "100%|██████████| 200/200 [00:01<00:00, 137.51it/s]\n",
      "100%|██████████| 200/200 [00:01<00:00, 140.85it/s]\n",
      "100%|██████████| 200/200 [00:01<00:00, 143.20it/s]\n",
      "100%|██████████| 200/200 [00:01<00:00, 141.74it/s]\n"
     ]
    },
    {
     "name": "stdout",
     "output_type": "stream",
     "text": [
      "30\n"
     ]
    },
    {
     "name": "stderr",
     "output_type": "stream",
     "text": [
      "100%|██████████| 200/200 [00:01<00:00, 139.14it/s]\n",
      "100%|██████████| 200/200 [00:01<00:00, 141.77it/s]\n",
      "100%|██████████| 200/200 [00:01<00:00, 145.85it/s]\n",
      "100%|██████████| 200/200 [00:01<00:00, 145.96it/s]\n"
     ]
    },
    {
     "name": "stdout",
     "output_type": "stream",
     "text": [
      "35\n"
     ]
    },
    {
     "name": "stderr",
     "output_type": "stream",
     "text": [
      "100%|██████████| 200/200 [00:01<00:00, 134.22it/s]\n",
      "100%|██████████| 200/200 [00:01<00:00, 137.33it/s]\n",
      "100%|██████████| 200/200 [00:01<00:00, 137.38it/s]\n",
      "100%|██████████| 200/200 [00:01<00:00, 142.35it/s]\n"
     ]
    },
    {
     "name": "stdout",
     "output_type": "stream",
     "text": [
      "40\n"
     ]
    },
    {
     "name": "stderr",
     "output_type": "stream",
     "text": [
      "100%|██████████| 200/200 [00:01<00:00, 137.21it/s]\n",
      "100%|██████████| 200/200 [00:01<00:00, 144.08it/s]\n",
      "100%|██████████| 200/200 [00:01<00:00, 146.33it/s]\n",
      "100%|██████████| 200/200 [00:01<00:00, 135.17it/s]\n"
     ]
    },
    {
     "name": "stdout",
     "output_type": "stream",
     "text": [
      "45\n"
     ]
    },
    {
     "name": "stderr",
     "output_type": "stream",
     "text": [
      "100%|██████████| 200/200 [00:01<00:00, 140.85it/s]\n",
      "100%|██████████| 200/200 [00:01<00:00, 131.40it/s]\n",
      "100%|██████████| 200/200 [00:01<00:00, 144.65it/s]\n",
      "100%|██████████| 200/200 [00:01<00:00, 136.75it/s]\n"
     ]
    },
    {
     "name": "stdout",
     "output_type": "stream",
     "text": [
      "50\n"
     ]
    },
    {
     "name": "stderr",
     "output_type": "stream",
     "text": [
      "100%|██████████| 200/200 [00:01<00:00, 137.76it/s]\n",
      "100%|██████████| 200/200 [00:01<00:00, 135.53it/s]\n",
      "100%|██████████| 200/200 [00:01<00:00, 145.75it/s]\n",
      "100%|██████████| 200/200 [00:01<00:00, 139.82it/s]\n"
     ]
    },
    {
     "name": "stdout",
     "output_type": "stream",
     "text": [
      "==============================   6   ==============================\n",
      "10\n"
     ]
    },
    {
     "name": "stderr",
     "output_type": "stream",
     "text": [
      "100%|██████████| 200/200 [00:01<00:00, 136.56it/s]\n",
      "100%|██████████| 200/200 [00:01<00:00, 138.72it/s]\n",
      "100%|██████████| 200/200 [00:01<00:00, 141.17it/s]\n",
      "100%|██████████| 200/200 [00:01<00:00, 136.15it/s]\n"
     ]
    },
    {
     "name": "stdout",
     "output_type": "stream",
     "text": [
      "15\n"
     ]
    },
    {
     "name": "stderr",
     "output_type": "stream",
     "text": [
      "100%|██████████| 200/200 [00:01<00:00, 139.89it/s]\n",
      "100%|██████████| 200/200 [00:01<00:00, 140.01it/s]\n",
      "100%|██████████| 200/200 [00:01<00:00, 144.56it/s]\n",
      "100%|██████████| 200/200 [00:01<00:00, 144.91it/s]\n"
     ]
    },
    {
     "name": "stdout",
     "output_type": "stream",
     "text": [
      "20\n"
     ]
    },
    {
     "name": "stderr",
     "output_type": "stream",
     "text": [
      "100%|██████████| 200/200 [00:01<00:00, 137.15it/s]\n",
      "100%|██████████| 200/200 [00:01<00:00, 142.65it/s]\n",
      "100%|██████████| 200/200 [00:01<00:00, 146.83it/s]\n",
      "100%|██████████| 200/200 [00:01<00:00, 147.14it/s]\n"
     ]
    },
    {
     "name": "stdout",
     "output_type": "stream",
     "text": [
      "25\n"
     ]
    },
    {
     "name": "stderr",
     "output_type": "stream",
     "text": [
      "100%|██████████| 200/200 [00:01<00:00, 134.53it/s]\n",
      "100%|██████████| 200/200 [00:01<00:00, 145.15it/s]\n",
      "100%|██████████| 200/200 [00:01<00:00, 138.59it/s]\n",
      "100%|██████████| 200/200 [00:01<00:00, 136.35it/s]\n"
     ]
    },
    {
     "name": "stdout",
     "output_type": "stream",
     "text": [
      "30\n"
     ]
    },
    {
     "name": "stderr",
     "output_type": "stream",
     "text": [
      "100%|██████████| 200/200 [00:01<00:00, 138.10it/s]\n",
      "100%|██████████| 200/200 [00:01<00:00, 141.72it/s]\n",
      "100%|██████████| 200/200 [00:01<00:00, 143.75it/s]\n",
      "100%|██████████| 200/200 [00:01<00:00, 142.20it/s]\n"
     ]
    },
    {
     "name": "stdout",
     "output_type": "stream",
     "text": [
      "35\n"
     ]
    },
    {
     "name": "stderr",
     "output_type": "stream",
     "text": [
      "100%|██████████| 200/200 [00:01<00:00, 136.68it/s]\n",
      "100%|██████████| 200/200 [00:01<00:00, 144.06it/s]\n",
      "100%|██████████| 200/200 [00:01<00:00, 143.49it/s]\n",
      "100%|██████████| 200/200 [00:01<00:00, 141.24it/s]\n"
     ]
    },
    {
     "name": "stdout",
     "output_type": "stream",
     "text": [
      "40\n"
     ]
    },
    {
     "name": "stderr",
     "output_type": "stream",
     "text": [
      "100%|██████████| 200/200 [00:01<00:00, 137.82it/s]\n",
      "100%|██████████| 200/200 [00:01<00:00, 139.72it/s]\n",
      "100%|██████████| 200/200 [00:01<00:00, 142.49it/s]\n",
      "100%|██████████| 200/200 [00:01<00:00, 140.37it/s]\n"
     ]
    },
    {
     "name": "stdout",
     "output_type": "stream",
     "text": [
      "45\n"
     ]
    },
    {
     "name": "stderr",
     "output_type": "stream",
     "text": [
      "100%|██████████| 200/200 [00:01<00:00, 138.75it/s]\n",
      "100%|██████████| 200/200 [00:01<00:00, 139.54it/s]\n",
      "100%|██████████| 200/200 [00:01<00:00, 142.15it/s]\n",
      "100%|██████████| 200/200 [00:01<00:00, 141.57it/s]\n"
     ]
    },
    {
     "name": "stdout",
     "output_type": "stream",
     "text": [
      "50\n"
     ]
    },
    {
     "name": "stderr",
     "output_type": "stream",
     "text": [
      "100%|██████████| 200/200 [00:01<00:00, 141.79it/s]\n",
      "100%|██████████| 200/200 [00:01<00:00, 141.05it/s]\n",
      "100%|██████████| 200/200 [00:01<00:00, 141.82it/s]\n",
      "100%|██████████| 200/200 [00:01<00:00, 138.15it/s]\n"
     ]
    },
    {
     "name": "stdout",
     "output_type": "stream",
     "text": [
      "==============================   7   ==============================\n",
      "10\n"
     ]
    },
    {
     "name": "stderr",
     "output_type": "stream",
     "text": [
      "100%|██████████| 200/200 [00:01<00:00, 128.80it/s]\n",
      "100%|██████████| 200/200 [00:01<00:00, 135.12it/s]\n",
      "100%|██████████| 200/200 [00:01<00:00, 139.69it/s]\n",
      "100%|██████████| 200/200 [00:01<00:00, 138.51it/s]\n"
     ]
    },
    {
     "name": "stdout",
     "output_type": "stream",
     "text": [
      "15\n"
     ]
    },
    {
     "name": "stderr",
     "output_type": "stream",
     "text": [
      "100%|██████████| 200/200 [00:01<00:00, 132.31it/s]\n",
      "100%|██████████| 200/200 [00:01<00:00, 133.78it/s]\n",
      "100%|██████████| 200/200 [00:01<00:00, 140.12it/s]\n",
      "100%|██████████| 200/200 [00:01<00:00, 144.04it/s]\n"
     ]
    },
    {
     "name": "stdout",
     "output_type": "stream",
     "text": [
      "20\n"
     ]
    },
    {
     "name": "stderr",
     "output_type": "stream",
     "text": [
      "100%|██████████| 200/200 [00:01<00:00, 134.94it/s]\n",
      "100%|██████████| 200/200 [00:01<00:00, 145.84it/s]\n",
      "100%|██████████| 200/200 [00:01<00:00, 145.64it/s]\n",
      "100%|██████████| 200/200 [00:01<00:00, 141.68it/s]\n"
     ]
    },
    {
     "name": "stdout",
     "output_type": "stream",
     "text": [
      "25\n"
     ]
    },
    {
     "name": "stderr",
     "output_type": "stream",
     "text": [
      "100%|██████████| 200/200 [00:01<00:00, 140.46it/s]\n",
      "100%|██████████| 200/200 [00:01<00:00, 144.70it/s]\n",
      "100%|██████████| 200/200 [00:01<00:00, 144.61it/s]\n",
      "100%|██████████| 200/200 [00:01<00:00, 141.13it/s]\n"
     ]
    },
    {
     "name": "stdout",
     "output_type": "stream",
     "text": [
      "30\n"
     ]
    },
    {
     "name": "stderr",
     "output_type": "stream",
     "text": [
      "100%|██████████| 200/200 [00:01<00:00, 139.15it/s]\n",
      "100%|██████████| 200/200 [00:01<00:00, 142.79it/s]\n",
      "100%|██████████| 200/200 [00:01<00:00, 143.76it/s]\n",
      "100%|██████████| 200/200 [00:01<00:00, 143.45it/s]\n"
     ]
    },
    {
     "name": "stdout",
     "output_type": "stream",
     "text": [
      "35\n"
     ]
    },
    {
     "name": "stderr",
     "output_type": "stream",
     "text": [
      "100%|██████████| 200/200 [00:01<00:00, 148.08it/s]\n",
      "100%|██████████| 200/200 [00:01<00:00, 143.72it/s]\n",
      "100%|██████████| 200/200 [00:01<00:00, 142.22it/s]\n",
      "100%|██████████| 200/200 [00:01<00:00, 146.38it/s]\n"
     ]
    },
    {
     "name": "stdout",
     "output_type": "stream",
     "text": [
      "40\n"
     ]
    },
    {
     "name": "stderr",
     "output_type": "stream",
     "text": [
      "100%|██████████| 200/200 [00:01<00:00, 130.96it/s]\n",
      "100%|██████████| 200/200 [00:01<00:00, 138.58it/s]\n",
      "100%|██████████| 200/200 [00:01<00:00, 140.58it/s]\n",
      "100%|██████████| 200/200 [00:01<00:00, 138.75it/s]\n"
     ]
    },
    {
     "name": "stdout",
     "output_type": "stream",
     "text": [
      "45\n"
     ]
    },
    {
     "name": "stderr",
     "output_type": "stream",
     "text": [
      "100%|██████████| 200/200 [00:01<00:00, 140.85it/s]\n",
      "100%|██████████| 200/200 [00:01<00:00, 144.92it/s]\n",
      "100%|██████████| 200/200 [00:01<00:00, 144.18it/s]\n",
      "100%|██████████| 200/200 [00:01<00:00, 143.61it/s]\n"
     ]
    },
    {
     "name": "stdout",
     "output_type": "stream",
     "text": [
      "50\n"
     ]
    },
    {
     "name": "stderr",
     "output_type": "stream",
     "text": [
      "100%|██████████| 200/200 [00:01<00:00, 135.15it/s]\n",
      "100%|██████████| 200/200 [00:01<00:00, 141.37it/s]\n",
      "100%|██████████| 200/200 [00:01<00:00, 142.57it/s]\n",
      "100%|██████████| 200/200 [00:01<00:00, 147.72it/s]\n"
     ]
    },
    {
     "name": "stdout",
     "output_type": "stream",
     "text": [
      "==============================   8   ==============================\n",
      "10\n"
     ]
    },
    {
     "name": "stderr",
     "output_type": "stream",
     "text": [
      "100%|██████████| 200/200 [00:01<00:00, 141.88it/s]\n",
      "100%|██████████| 200/200 [00:01<00:00, 144.10it/s]\n",
      "100%|██████████| 200/200 [00:01<00:00, 144.83it/s]\n",
      "100%|██████████| 200/200 [00:01<00:00, 140.24it/s]\n"
     ]
    },
    {
     "name": "stdout",
     "output_type": "stream",
     "text": [
      "15\n"
     ]
    },
    {
     "name": "stderr",
     "output_type": "stream",
     "text": [
      "100%|██████████| 200/200 [00:01<00:00, 143.17it/s]\n",
      "100%|██████████| 200/200 [00:01<00:00, 145.13it/s]\n",
      "100%|██████████| 200/200 [00:01<00:00, 144.95it/s]\n",
      "100%|██████████| 200/200 [00:01<00:00, 136.23it/s]\n"
     ]
    },
    {
     "name": "stdout",
     "output_type": "stream",
     "text": [
      "20\n"
     ]
    },
    {
     "name": "stderr",
     "output_type": "stream",
     "text": [
      "100%|██████████| 200/200 [00:01<00:00, 135.00it/s]\n",
      "100%|██████████| 200/200 [00:01<00:00, 142.40it/s]\n",
      "100%|██████████| 200/200 [00:01<00:00, 142.86it/s]\n",
      "100%|██████████| 200/200 [00:01<00:00, 136.20it/s]\n"
     ]
    },
    {
     "name": "stdout",
     "output_type": "stream",
     "text": [
      "25\n"
     ]
    },
    {
     "name": "stderr",
     "output_type": "stream",
     "text": [
      "100%|██████████| 200/200 [00:01<00:00, 141.69it/s]\n",
      "100%|██████████| 200/200 [00:01<00:00, 145.18it/s]\n",
      "100%|██████████| 200/200 [00:01<00:00, 145.07it/s]\n",
      "100%|██████████| 200/200 [00:01<00:00, 143.93it/s]\n"
     ]
    },
    {
     "name": "stdout",
     "output_type": "stream",
     "text": [
      "30\n"
     ]
    },
    {
     "name": "stderr",
     "output_type": "stream",
     "text": [
      "100%|██████████| 200/200 [00:01<00:00, 139.35it/s]\n",
      "100%|██████████| 200/200 [00:01<00:00, 145.17it/s]\n",
      "100%|██████████| 200/200 [00:01<00:00, 142.12it/s]\n",
      "100%|██████████| 200/200 [00:01<00:00, 141.36it/s]\n"
     ]
    },
    {
     "name": "stdout",
     "output_type": "stream",
     "text": [
      "35\n"
     ]
    },
    {
     "name": "stderr",
     "output_type": "stream",
     "text": [
      "100%|██████████| 200/200 [00:01<00:00, 135.82it/s]\n",
      "100%|██████████| 200/200 [00:01<00:00, 140.68it/s]\n",
      "100%|██████████| 200/200 [00:01<00:00, 139.33it/s]\n",
      "100%|██████████| 200/200 [00:01<00:00, 137.00it/s]\n"
     ]
    },
    {
     "name": "stdout",
     "output_type": "stream",
     "text": [
      "40\n"
     ]
    },
    {
     "name": "stderr",
     "output_type": "stream",
     "text": [
      "100%|██████████| 200/200 [00:01<00:00, 139.77it/s]\n",
      "100%|██████████| 200/200 [00:01<00:00, 144.85it/s]\n",
      "100%|██████████| 200/200 [00:01<00:00, 146.48it/s]\n",
      "100%|██████████| 200/200 [00:01<00:00, 143.51it/s]\n"
     ]
    },
    {
     "name": "stdout",
     "output_type": "stream",
     "text": [
      "45\n"
     ]
    },
    {
     "name": "stderr",
     "output_type": "stream",
     "text": [
      "100%|██████████| 200/200 [00:01<00:00, 140.60it/s]\n",
      "100%|██████████| 200/200 [00:01<00:00, 142.18it/s]\n",
      "100%|██████████| 200/200 [00:01<00:00, 140.51it/s]\n",
      "100%|██████████| 200/200 [00:01<00:00, 137.27it/s]\n"
     ]
    },
    {
     "name": "stdout",
     "output_type": "stream",
     "text": [
      "50\n"
     ]
    },
    {
     "name": "stderr",
     "output_type": "stream",
     "text": [
      "100%|██████████| 200/200 [00:01<00:00, 139.35it/s]\n",
      "100%|██████████| 200/200 [00:01<00:00, 141.91it/s]\n",
      "100%|██████████| 200/200 [00:01<00:00, 137.95it/s]\n",
      "100%|██████████| 200/200 [00:01<00:00, 139.69it/s]\n"
     ]
    },
    {
     "name": "stdout",
     "output_type": "stream",
     "text": [
      "==============================   9   ==============================\n",
      "10\n"
     ]
    },
    {
     "name": "stderr",
     "output_type": "stream",
     "text": [
      "100%|██████████| 200/200 [00:01<00:00, 141.13it/s]\n",
      "100%|██████████| 200/200 [00:01<00:00, 142.85it/s]\n",
      "100%|██████████| 200/200 [00:01<00:00, 142.17it/s]\n",
      "100%|██████████| 200/200 [00:01<00:00, 143.30it/s]\n"
     ]
    },
    {
     "name": "stdout",
     "output_type": "stream",
     "text": [
      "15\n"
     ]
    },
    {
     "name": "stderr",
     "output_type": "stream",
     "text": [
      "100%|██████████| 200/200 [00:01<00:00, 136.99it/s]\n",
      "100%|██████████| 200/200 [00:01<00:00, 144.80it/s]\n",
      "100%|██████████| 200/200 [00:01<00:00, 143.15it/s]\n",
      "100%|██████████| 200/200 [00:01<00:00, 141.32it/s]\n"
     ]
    },
    {
     "name": "stdout",
     "output_type": "stream",
     "text": [
      "20\n"
     ]
    },
    {
     "name": "stderr",
     "output_type": "stream",
     "text": [
      "100%|██████████| 200/200 [00:01<00:00, 134.84it/s]\n",
      "100%|██████████| 200/200 [00:01<00:00, 142.50it/s]\n",
      "100%|██████████| 200/200 [00:01<00:00, 144.34it/s]\n",
      "100%|██████████| 200/200 [00:01<00:00, 141.01it/s]\n"
     ]
    },
    {
     "name": "stdout",
     "output_type": "stream",
     "text": [
      "25\n"
     ]
    },
    {
     "name": "stderr",
     "output_type": "stream",
     "text": [
      "100%|██████████| 200/200 [00:01<00:00, 137.52it/s]\n",
      "100%|██████████| 200/200 [00:01<00:00, 142.74it/s]\n",
      "100%|██████████| 200/200 [00:01<00:00, 144.63it/s]\n",
      "100%|██████████| 200/200 [00:01<00:00, 146.56it/s]\n"
     ]
    },
    {
     "name": "stdout",
     "output_type": "stream",
     "text": [
      "30\n"
     ]
    },
    {
     "name": "stderr",
     "output_type": "stream",
     "text": [
      "100%|██████████| 200/200 [00:01<00:00, 133.11it/s]\n",
      "100%|██████████| 200/200 [00:01<00:00, 142.54it/s]\n",
      "100%|██████████| 200/200 [00:01<00:00, 137.93it/s]\n",
      "100%|██████████| 200/200 [00:01<00:00, 137.69it/s]\n"
     ]
    },
    {
     "name": "stdout",
     "output_type": "stream",
     "text": [
      "35\n"
     ]
    },
    {
     "name": "stderr",
     "output_type": "stream",
     "text": [
      "100%|██████████| 200/200 [00:01<00:00, 141.74it/s]\n",
      "100%|██████████| 200/200 [00:01<00:00, 139.45it/s]\n",
      "100%|██████████| 200/200 [00:01<00:00, 143.66it/s]\n",
      "100%|██████████| 200/200 [00:01<00:00, 143.12it/s]\n"
     ]
    },
    {
     "name": "stdout",
     "output_type": "stream",
     "text": [
      "40\n"
     ]
    },
    {
     "name": "stderr",
     "output_type": "stream",
     "text": [
      "100%|██████████| 200/200 [00:01<00:00, 138.04it/s]\n",
      "100%|██████████| 200/200 [00:01<00:00, 141.00it/s]\n",
      "100%|██████████| 200/200 [00:01<00:00, 139.90it/s]\n",
      "100%|██████████| 200/200 [00:01<00:00, 142.67it/s]\n"
     ]
    },
    {
     "name": "stdout",
     "output_type": "stream",
     "text": [
      "45\n"
     ]
    },
    {
     "name": "stderr",
     "output_type": "stream",
     "text": [
      "100%|██████████| 200/200 [00:01<00:00, 137.04it/s]\n",
      "100%|██████████| 200/200 [00:01<00:00, 136.60it/s]\n",
      "100%|██████████| 200/200 [00:01<00:00, 144.37it/s]\n",
      "100%|██████████| 200/200 [00:01<00:00, 140.55it/s]\n"
     ]
    },
    {
     "name": "stdout",
     "output_type": "stream",
     "text": [
      "50\n"
     ]
    },
    {
     "name": "stderr",
     "output_type": "stream",
     "text": [
      "100%|██████████| 200/200 [00:01<00:00, 139.75it/s]\n",
      "100%|██████████| 200/200 [00:01<00:00, 144.34it/s]\n",
      "100%|██████████| 200/200 [00:01<00:00, 143.70it/s]\n",
      "100%|██████████| 200/200 [00:01<00:00, 138.68it/s]\n"
     ]
    }
   ],
   "source": [
    "# sample precision matrices through the proposed Conditional Matrix Flows\n",
    "# here we load the trained models (which can be obtained by running 'main.py')\n",
    "lamb_min_exp, lamb_max_exp = 0, 2\n",
    "p_min, p_max = .1, 1.5\n",
    "T0, Tn = 5, 1\n",
    "epochs = 5001\n",
    "\n",
    "cmf = []\n",
    "for i_X, (X, seed) in enumerate(zip(X_list, seeds)):\n",
    "    print('='*30, ' ', i_X, ' ', '='*30)\n",
    "    flow_n_samples =[]\n",
    "    for n in n_samples:\n",
    "        print(n)\n",
    "        X_ = X[:n]\n",
    "        X_ /= X_.std(0)\n",
    "        S = np.cov(X_, rowvar=False)\n",
    "        S_torch = torch.from_numpy(S).float().cuda()\n",
    "        file_name = f'd{d}_n{n}_e{epochs}_pmin{p_min}_pmax{p_max}_lmin{lamb_min_exp}_lmax{lamb_max_exp}_seed{seed}'\n",
    "        flow_state_dict = torch.load(f\"./models_boxplots/cmf_{file_name}\"+f\"_T1.000\")\n",
    "        flow = utils_mcf.build_positive_definite_vector(d, context_features=32, n_layers=3)\n",
    "        flow.load_state_dict(flow_state_dict)\n",
    "        flow.eval()\n",
    "\n",
    "        f = open(f\"./models_boxplots/cmf_{file_name}.txt\", \"r\") \n",
    "        alpha = float(f.read()) * n / 2\n",
    "        log_alpha = np.log10(alpha) \n",
    "\n",
    "        p = torch.tensor(1.).cuda()\n",
    "        flow_p_samples = []\n",
    "        for p_value in p_values:\n",
    "            flow_samples_, _, _, _, _, _, _, lambda_sorted = utils_mcf.sample_W_fixed_p(flow, S_torch, p=p*p_value, n=n, T=Tn, context_size=1, sample_size=5, lambda_min_exp=log_alpha, lambda_max_exp=log_alpha)\n",
    "            flow_samples_ = flow_samples_.reshape(-1, d, d)\n",
    "            flow_p_samples.append(flow_samples_)\n",
    "        flow_n_samples.append(flow_p_samples)\n",
    "    cmf.append(flow_n_samples)\n",
    "np.save(\"cmf.npy\", cmf)\n",
    "del flow"
   ],
   "id": "1e4b5f7bd92859f2"
  },
  {
   "cell_type": "markdown",
   "metadata": {},
   "source": [
    "### Bayesian Graphical Lasso"
   ],
   "id": "2bfb41c5d316bd84"
  },
  {
   "cell_type": "code",
   "execution_count": null,
   "metadata": {},
   "outputs": [],
   "source": [
    "# sample precision matrices with the Bayesian Graphical Lasso approach by Wang (2012)\n",
    "BayesianGLasso = rpackages.importr('BayesianGLasso')\n",
    "\n",
    "ones = np.ones((1000, d, d))\n",
    "bayes_glasso_samples = []\n",
    "start_time = time.time()\n",
    "for n in n_samples:\n",
    "    print('+'*40, ' ', n, ' ', '+'*40)\n",
    "    precisions = []\n",
    "    for X in X_list:\n",
    "        X_ = X[:n]\n",
    "        X_ /= X_.std(0)\n",
    "        %R -i X_ -o BayesGLasso BayesGLasso <- blockGLasso(X=X_, iterations=4000, burnIn=1000, lambdaPriora=1, lambdaPriorb=.1)\n",
    "        BayesGlasso_prec = [value for i, (key, value) in enumerate(BayesGLasso['Omegas'].items()) if i+1>1000 and (i+1)%4==0]\n",
    "        precisions.append(np.array(BayesGlasso_prec))\n",
    "        print(\"--- %s seconds ---\" % (time.time() - start_time))\n",
    "    np.save(f\"bayes_glasso_samples_{n}.npy\", np.array(precisions, dtype=object))\n",
    "    bayes_glasso_samples.append(precisions)\n",
    "bayes_glasso_samples = np.array(bayes_glasso_samples, dtype=object)\n",
    "np.save(\"bayes_glasso_samples.npy\", bayes_glasso_samples)"
   ],
   "id": "6cdc664469707551"
  },
  {
   "cell_type": "markdown",
   "metadata": {},
   "source": [
    "### Frequentist approach: GMMs with Nonconvex Regularization\n",
    "\n",
    "Precision matrix reconstruction through two classes of penalties\n",
    "\n",
    "- l0 approximations:  \n",
    "    - Atan (\"atan\") by Wang and Zhu (2016) \n",
    "    - Seamless L0 (\"selo\") by Dicker et al. (2013)\n",
    "    - Exponential (\"exp\") by Wang et al. (2018)\n",
    "    - Log (\"log\") by Mazumder et al. (2011)\n",
    "    - SICA (\"sica\") by Lv and Fan (2009)\n",
    "\n",
    "\n",
    "- additional penalties(smooth interpolation between l0 and l1):\n",
    "    - SCAD (\"scad\") by Fan and Li (2001)\n",
    "    - MC+ (\"mcp\") by Zhang (2010)\n",
    "    - Adaptive lasso (\"adapt\") by Zou (2006)"
   ],
   "id": "b3bec78824b6168f"
  },
  {
   "cell_type": "code",
   "execution_count": null,
   "metadata": {},
   "outputs": [],
   "source": [
    "# for more details see the R package 'GGMncv' \n",
    "GGmncv = rpackages.importr('GGMncv')\n",
    "penalties = ['atan', 'selo', 'exp', 'log', 'sica', 'scad', 'mcp', 'adapt', 'lasso']\n",
    "ggmncv = {}\n",
    "left_outs = dict(zip(penalties, [0,0,2,0,0,3,4,0,0]))\n",
    "for penalty in penalties:\n",
    "    print('='*30, ' ', penalty, ' ', '='*30)\n",
    "    samples = []\n",
    "    for n in n_samples[left_outs[penalty]:]:\n",
    "        print('+'*20, ' ', n, ' ', '+'*20)\n",
    "        precisions = []    \n",
    "        for X in X_list:\n",
    "            X_ = X[:n]\n",
    "            X_ /= X_.std(0)\n",
    "            S = np.corrcoef(X_, rowvar=False)\n",
    "            %R -i S -i n -i d -i penalty -i X_ -o fit fit <- ggmncv(S, n=n, progress = FALSE, penalty=penalty, initial=ledoit_wolf, Y=X_)\n",
    "            precisions.append(fit['Theta'])\n",
    "        samples.append(precisions)\n",
    "    ggmncv[penalty] = np.arrays(samples)\n",
    "np.save(\"ggmncv.npy\", ggmncv)"
   ],
   "id": "79e1104898fb0d47"
  },
  {
   "cell_type": "markdown",
   "metadata": {},
   "source": [
    "### Results comparison"
   ],
   "id": "7fe05efb4c59c97e"
  },
  {
   "cell_type": "code",
   "execution_count": 5,
   "metadata": {
    "ExecuteTime": {
     "end_time": "2023-10-10T17:22:10.589745819Z",
     "start_time": "2023-10-10T17:22:10.533336948Z"
    }
   },
   "outputs": [],
   "source": [
    "#can choose from a variety of scores: e.g. 'f1', 'accuracy', 'precision' etc.\n",
    "score = 'f1'"
   ],
   "id": "4bf886a3685b3831"
  },
  {
   "cell_type": "code",
   "execution_count": 6,
   "metadata": {
    "scrolled": true,
    "ExecuteTime": {
     "end_time": "2023-10-10T17:23:06.827841818Z",
     "start_time": "2023-10-10T17:22:11.234686571Z"
    }
   },
   "outputs": [
    {
     "name": "stdout",
     "output_type": "stream",
     "text": [
      "computing scores for Conditional Matrix Flow...\n",
      "computing scores for Bayesian Graphical Lasso...\n",
      "computing scores for GGMncv...\n"
     ]
    }
   ],
   "source": [
    "# credibility intervals\n",
    "conf_bayes = 0.9\n",
    "conf_flow = 0.9\n",
    "glasso_scores = []\n",
    "\n",
    "settings = dict(thresholding=False, eps=1e-2, no_diagonal=False)\n",
    "\n",
    "print('computing scores for Conditional Matrix Flow...')\n",
    "cmf = np.load('cmf.npy', allow_pickle=True)\n",
    "cmf_scores = []\n",
    "for i_p in range(len(p_values)):\n",
    "    p_scores = []\n",
    "    for i_n in range(len(n_samples)):\n",
    "        n_scores = []\n",
    "        for i_x, W in enumerate(W_list[:4]):\n",
    "            n = n_samples[i_n]\n",
    "            samples = cmf[i_x][i_n][i_p]\n",
    "            qleft = np.quantile(samples, 0.5 - conf_flow*0.5, 0)\n",
    "            qright = np.quantile(samples, 0.5 + conf_flow*0.5, 0)\n",
    "            signif_edge = qleft * qright > 0\n",
    "            signed_signif = np.sign(qleft) * signif_edge\n",
    "            error = structure_error(W, signed_signif, **settings)[score]\n",
    "            n_scores.append(error)\n",
    "        p_scores.append(n_scores)\n",
    "    cmf_scores.append(p_scores)\n",
    "cmf_scores = np.array(cmf_scores)\n",
    "\n",
    "print('computing scores for Bayesian Graphical Lasso...')\n",
    "bayes_glasso_samples = np.load('bayes_glasso_samples.npy', allow_pickle=True)\n",
    "bayes_glasso_scores = []\n",
    "for i_n in range(len(n_samples[1::2])):\n",
    "    n = n_samples[i_n]\n",
    "    error = []\n",
    "    for i_W, W in enumerate(W_list):\n",
    "        samples = bayes_glasso_samples[i_n][i_W]\n",
    "        qleft = np.quantile(samples, 0.5 - conf_bayes*0.5, 0)\n",
    "        qright = np.quantile(samples, 0.5 + conf_bayes*0.5, 0)\n",
    "        signif_edge = qleft * qright > 0\n",
    "        signed_signif = np.sign(qleft) * signif_edge\n",
    "        error_ = structure_error(W, signed_signif, **settings)[score]\n",
    "        error.append(error_)\n",
    "    bayes_glasso_scores.append(error)\n",
    "bayes_glasso_scores = np.array(bayes_glasso_scores)\n",
    "    \n",
    "print('computing scores for GGMncv...')\n",
    "ggmncv = np.load('ggmncv.npy', allow_pickle=True)[()]\n",
    "ggmncv_scores = {}\n",
    "for penalty in penalties:\n",
    "    n_scores = []\n",
    "    for i_n in range(len(n_samples[left_outs[penalty]:])):\n",
    "        n = n_samples[i_n]\n",
    "        error = [ structure_error(W, ggmncv[penalty][i_n][i_W], **settings)[score] for i_W, W in enumerate(W_list)]\n",
    "        n_scores.append(error)\n",
    "    ggmncv_scores[penalty] = np.array(n_scores)"
   ],
   "id": "8e41fd30852a81fc"
  },
  {
   "cell_type": "code",
   "execution_count": 7,
   "metadata": {
    "ExecuteTime": {
     "end_time": "2023-10-10T17:23:17.710768188Z",
     "start_time": "2023-10-10T17:23:17.700536526Z"
    }
   },
   "outputs": [],
   "source": [
    "# convert to dataframe to use sns.boxplots\n",
    "df_cmf_dict = {}\n",
    "for i_p, p_value in enumerate(p_values):\n",
    "    df_cmf = pd.DataFrame(cmf_scores[i_p].T, columns=n_samples).assign(model=f\"CMF ($p$={p_value})\")\n",
    "    df_cmf_dict[p_value] = df_cmf\n",
    "\n",
    "df_bayes_glasso = pd.DataFrame(bayes_glasso_scores.T, columns = n_samples[1::2]).assign(model='BGL')\n",
    "\n",
    "df_ggmncv_dict = {}\n",
    "for penalty in penalties:\n",
    "    df_ggmncv =pd.DataFrame(ggmncv_scores[penalty].T, columns = n_samples[left_outs[penalty]:]).assign(model=penalty)\n",
    "    df_ggmncv_dict[penalty] = df_ggmncv"
   ],
   "id": "2b6140c0180f1409"
  },
  {
   "cell_type": "markdown",
   "metadata": {},
   "source": [
    "#### Sanity check: Conditional Matrix Flow for p = 1 vs Bayesian Graphical Lasso"
   ],
   "id": "f1902b6a95c53dc8"
  },
  {
   "cell_type": "code",
   "execution_count": 19,
   "metadata": {
    "scrolled": false,
    "ExecuteTime": {
     "end_time": "2023-10-10T18:11:28.138846624Z",
     "start_time": "2023-10-10T18:11:27.695111334Z"
    }
   },
   "outputs": [
    {
     "data": {
      "text/plain": "<Figure size 432x288 with 1 Axes>",
      "image/png": "[encoded data removed]"
     },
     "metadata": {},
     "output_type": "display_data"
    }
   ],
   "source": [
    "# sns.set(style=\"whitegrid\", font_scale=1.5)\n",
    "sns.set_theme(style=\"whitegrid\")\n",
    "cdf = pd.concat([ df_cmf_dict[p_values[4]], df_bayes_glasso])\n",
    "mdf = pd.melt(cdf, id_vars=['model'], var_name='# samples', value_name=score)\n",
    "fig, ax = plt.subplots()\n",
    "mdf_subset = mdf.loc[mdf['# samples'].isin([15,25,35,45])]\n",
    "sns.boxplot(x=\"# samples\", y=score, hue=\"model\", data=mdf)  # RUN PLOT\n",
    "plt.xticks(fontsize=14)\n",
    "plt.yticks([0.3,0.4,0.5,0.6,0.7], fontsize=12)\n",
    "plt.xlabel('# samples', fontsize=18)\n",
    "plt.ylabel('F1', fontsize=18)\n",
    "plt.savefig(f\"box_plot_{score}_flow_lasso.pdf\", dpi=200,  bbox_inches='tight')\n",
    "plt.show()"
   ],
   "id": "e301f33852c183d5"
  },
  {
   "cell_type": "markdown",
   "metadata": {},
   "source": [
    "#### Conditional Matrix Flow vs frequentist GGMs with l0 approximation penalty"
   ],
   "id": "38851590554f4c0b"
  },
  {
   "cell_type": "code",
   "execution_count": 20,
   "metadata": {
    "ExecuteTime": {
     "end_time": "2023-10-10T18:11:29.641644753Z",
     "start_time": "2023-10-10T18:11:28.689523797Z"
    }
   },
   "outputs": [
    {
     "data": {
      "text/plain": "<Figure size 432x288 with 1 Axes>",
      "image/png": "[encoded data removed]"
     },
     "metadata": {},
     "output_type": "display_data"
    }
   ],
   "source": [
    "penalties = ['atan', 'selo', 'exp', 'log', 'sica', 'scad', 'mcp', 'adapt', 'lasso']\n",
    "cdf = pd.concat([df_cmf_dict[p_values[1]], df_ggmncv_dict['atan'], df_ggmncv_dict['log'], df_ggmncv_dict['selo'], \n",
    "                 df_ggmncv_dict['sica']])#,  df_ggmncv_dict['exp']])\n",
    "mdf = pd.melt(cdf, id_vars=['model'], var_name='# samples', value_name=score)\n",
    "plt.figure()\n",
    "mdf_subset = mdf.loc[mdf['# samples'].isin([15,25,35,45])]\n",
    "g = sns.boxplot(x=\"# samples\", y=score, hue=\"model\", data=mdf_subset)  # RUN PLOT\n",
    "plt.xticks(fontsize=12)\n",
    "plt.yticks([0.3,0.4,0.5,0.6,0.7], fontsize=12)\n",
    "plt.xlabel('# samples', fontsize=18)\n",
    "plt.ylabel('F1', fontsize=18)\n",
    "g.legend_.set_title(None)\n",
    "plt.savefig(f\"box_plot_{score}_flow_l0ncv.pdf\", dpi=200,  bbox_inches='tight')\n",
    "plt.show()"
   ],
   "id": "fd496a9d02a6a032"
  },
  {
   "cell_type": "markdown",
   "metadata": {},
   "source": [
    "#### Conditional Matrix Flow (with p<1) vs Bayesian Graphical Lasso"
   ],
   "id": "f9024d93815bfa21"
  },
  {
   "cell_type": "code",
   "execution_count": 21,
   "metadata": {
    "ExecuteTime": {
     "end_time": "2023-10-10T18:11:31.055253488Z",
     "start_time": "2023-10-10T18:11:30.337156974Z"
    }
   },
   "outputs": [
    {
     "data": {
      "text/plain": "<Figure size 432x288 with 1 Axes>",
      "image/png": "[encoded data removed]"
     },
     "metadata": {},
     "output_type": "display_data"
    }
   ],
   "source": [
    "palette_tab10 = sns.color_palette(\"tab10\", 10)\n",
    "palette_blue = list(sns.light_palette(palette_tab10[0], n_colors=6))[::-1][:4]\n",
    "palette_salmon = list(sns.light_palette(palette_tab10[1], n_colors=6))[::-1][:1]\n",
    "palette = palette_blue + palette_salmon\n",
    "\n",
    "cdf = pd.concat([df_cmf_dict[p_values[1]], df_cmf_dict[p_values[2]], \n",
    "                 df_cmf_dict[p_values[3]], df_cmf_dict[p_values[4]], df_bayes_glasso])                                # CONCATENATE\n",
    "mdf = pd.melt(cdf, id_vars=['model'], var_name='# samples', value_name=score)\n",
    "plt.figure()\n",
    "mdf_subset = mdf.loc[mdf['# samples'].isin([15,25,35,45])]\n",
    "g = sns.boxplot(x=\"# samples\", y=score, hue=\"model\", data=mdf_subset, palette=palette)  # RUN PLOT\n",
    "plt.xticks(fontsize=12)\n",
    "plt.yticks([0.3,0.4,0.5,0.6,0.7], fontsize=12)\n",
    "plt.xlabel('# samples', fontsize=18)\n",
    "plt.ylabel('F1', fontsize=18)\n",
    "g.legend_.set_title(None)\n",
    "plt.savefig(f\"box_plot_{score}_flow_bayes_glasso.pdf\",  bbox_inches='tight')\n",
    "plt.show()"
   ],
   "id": "9e0abdcb77f46766"
  },
  {
   "cell_type": "markdown",
   "metadata": {},
   "source": [
    "#### Conditional Matrix Flow (with p<1) vs SCAD, MC+ and Adaptive lasso (as a function of $\\gamma$)"
   ],
   "id": "351c0d34838748f5"
  },
  {
   "cell_type": "code",
   "execution_count": 41,
   "metadata": {
    "ExecuteTime": {
     "end_time": "2023-10-10T17:00:36.363837900Z",
     "start_time": "2023-10-10T17:00:36.358498379Z"
    }
   },
   "outputs": [],
   "source": [
    "# select gamma for each method. We start from the minimal working gamma in each setting\n",
    "gamma_dict = dict(scad= [3.5,4,5,10,100], \n",
    "                  mcp= [2,3,4,10,100],#,3.5,10,100]\n",
    "                  adapt= [0.1,0.2,0.3,0.5,1])#,0.3,0.5,1])"
   ],
   "id": "f0e6c0c8d86dde03"
  },
  {
   "cell_type": "code",
   "execution_count": 42,
   "metadata": {
    "ExecuteTime": {
     "end_time": "2023-10-10T17:00:44.574764985Z",
     "start_time": "2023-10-10T17:00:37.467491858Z"
    }
   },
   "outputs": [
    {
     "name": "stderr",
     "output_type": "stream",
     "text": [
      "R[write to console]: \n",
      "\n",
      "R[write to console]: Warning messages:\n",
      "\n",
      "R[write to console]: 1: \n",
      "R[write to console]: In (function (package, help, pos = 2, lib.loc = NULL, character.only = FALSE,  :\n",
      "R[write to console]: \n",
      " \n",
      "R[write to console]:  libraries ‘/usr/local/lib/R/site-library’, ‘/usr/lib/R/site-library’ contain no packages\n",
      "\n",
      "R[write to console]: 2: \n",
      "R[write to console]: In (function (package, help, pos = 2, lib.loc = NULL, character.only = FALSE,  :\n",
      "R[write to console]: \n",
      " \n",
      "R[write to console]:  libraries ‘/usr/local/lib/R/site-library’, ‘/usr/lib/R/site-library’ contain no packages\n",
      "\n",
      "\n",
      "KeyboardInterrupt\n",
      "\n"
     ]
    }
   ],
   "source": [
    "GGmncv = rpackages.importr('GGMncv')\n",
    "ggmncv_gamma = {}\n",
    "left_outs = dict(zip(penalties[-4:-1], [3,4,0]))\n",
    "for penalty in penalties[-4:-1]:\n",
    "    print('='*30, ' ', penalty, ' ', '='*30)\n",
    "    gamma_list = {}\n",
    "    for gamma in gamma_dict[penalty]:\n",
    "        print('-'*20, ' ', gamma, ' ', '-'*20)\n",
    "        sample_list = []\n",
    "        for n in n_samples[left_outs[penalty]:]:\n",
    "            print('+'*20, ' ', n, ' ', '+'*20)\n",
    "            prec_list = []    \n",
    "            for X in X_list:\n",
    "                X_ = X[:n]\n",
    "                X_ /= X_.std(0)\n",
    "                S = np.corrcoef(X_, rowvar=False)\n",
    "                %R -i S -i n -i d -i penalty -i X_ -i gamma -o fit fit <- ggmncv(S, n=n, progress = FALSE, penalty=penalty, initial=ledoit_wolf, Y=X_, gamma=gamma)\n",
    "                prec_list.append(fit['Theta'])\n",
    "            sample_list.append(prec_list)\n",
    "        gamma_list[gamma] = np.array(sample_list)\n",
    "    ggmncv_gamma[penalty] = gamma_list\n",
    "np.save(\"ggmncv_gamma.npy\", ggmncv_gamma)"
   ],
   "id": "f27f6624f6f8f147"
  },
  {
   "cell_type": "code",
   "execution_count": 43,
   "metadata": {
    "ExecuteTime": {
     "end_time": "2023-10-10T17:00:50.503428718Z",
     "start_time": "2023-10-10T17:00:48.512801733Z"
    }
   },
   "outputs": [
    {
     "name": "stdout",
     "output_type": "stream",
     "text": [
      "computing scores for GGMncv gamma...\n"
     ]
    }
   ],
   "source": [
    "print('computing scores for GGMncv gamma...')\n",
    "ggmncv_gamma = np.load('ggmncv_gamma.npy', allow_pickle=True)[()]\n",
    "ggmncv_gamma_score = {}\n",
    "for penalty in penalties[-4:-1]:\n",
    "    gamma_score = {}\n",
    "    for gamma in gamma_dict[penalty]:\n",
    "        n_scores = []\n",
    "        for i_n in range(len(n_samples[left_outs[penalty]:])):\n",
    "            n = n_samples[i_n]\n",
    "            error = [ structure_error(W, ggmncv_gamma[penalty][gamma][i_n][i_W], \n",
    "                                      **settings)[score] for i_W, W in enumerate(W_list)]\n",
    "            n_scores.append(error)\n",
    "        gamma_score[gamma] = np.array(n_scores)\n",
    "    ggmncv_gamma_score[penalty] = gamma_score"
   ],
   "id": "7f40597765e54233"
  },
  {
   "cell_type": "markdown",
   "metadata": {},
   "source": [
    "#### Conditional Matrix Flow (with p<1) vs adaptive Lasso"
   ],
   "id": "acc0ce0e63f5643b"
  },
  {
   "cell_type": "code",
   "execution_count": 90,
   "metadata": {},
   "outputs": [
    {
     "data": {
      "image/png": "[encoded data removed]",
      "text/plain": [
       "<Figure size 960x400 with 1 Axes>"
      ]
     },
     "metadata": {
      "needs_background": "light"
     },
     "output_type": "display_data"
    }
   ],
   "source": [
    "penalty = 'adapt'\n",
    "\n",
    "palette_blue = list(sns.light_palette(palette_tab10[0], n_colors=6))[::-1][:4]\n",
    "palette_salmon = list(sns.light_palette(palette_tab10[1], n_colors=6))[::-1][:4]\n",
    "palette = palette_blue + palette_salmon\n",
    "\n",
    "df_ggmncv_gamma_dict = {}\n",
    "for gamma in gamma_dict[penalty]:\n",
    "    df_ggmncv = pd.DataFrame(ggmncv_gamma_score[penalty][gamma].T, \n",
    "                            columns = n_samples[left_outs[penalty]:]).assign(model=f\"{penalty} ($\\gamma$={gamma})\")\n",
    "    df_ggmncv_gamma_dict[gamma] = df_ggmncv\n",
    "\n",
    "cdf = pd.concat([df_cmf_dict[p_values[1]], df_cmf_dict[p_values[2]], \n",
    "                 df_cmf_dict[p_values[3]], df_cmf_dict[p_values[4]], \n",
    "                 df_ggmncv_gamma_dict[gamma_dict[penalty][0]], df_ggmncv_gamma_dict[gamma_dict[penalty][2]], \n",
    "                 df_ggmncv_gamma_dict[gamma_dict[penalty][3]], df_ggmncv_gamma_dict[gamma_dict[penalty][4]]])\n",
    "mdf = pd.melt(cdf, id_vars=['model'], var_name='# samples', value_name=score)\n",
    "plt.figure()\n",
    "mdf_subset = mdf.loc[mdf['# samples'].isin([15,25,35,45])]\n",
    "ax = sns.boxplot(x=\"# samples\", y=score, hue=\"model\", data=mdf_subset, palette=palette)\n",
    "plt.xticks(fontsize=14)\n",
    "plt.yticks([0.3,0.4,0.5,0.6,0.7], fontsize=14)\n",
    "plt.xlabel('# samples', fontsize=18)\n",
    "plt.ylabel('F1', fontsize=18)\n",
    "plt.legend(ncol=2, loc='lower center')\n",
    "plt.legend(ncol=2, loc='upper left')\n",
    "plt.savefig(f\"box_plot_{score}_flow_{penalty}_.pdf\", dpi=200,  bbox_inches='tight')\n",
    "plt.show()"
   ],
   "id": "1ce7a8244794ea18"
  },
  {
   "cell_type": "markdown",
   "metadata": {},
   "source": [
    "#### Conditional Matrix Flow (with p<1) vs SCAD"
   ],
   "id": "79a9a4ff193ab6b1"
  },
  {
   "cell_type": "code",
   "execution_count": 79,
   "metadata": {},
   "outputs": [
    {
     "data": {
      "image/png": "[encoded data removed]",
      "text/plain": [
       "<Figure size 960x400 with 1 Axes>"
      ]
     },
     "metadata": {
      "needs_background": "light"
     },
     "output_type": "display_data"
    }
   ],
   "source": [
    "penalty = 'scad'\n",
    "\n",
    "palette_blue = list(sns.light_palette(palette_tab10[0], n_colors=6))[::-1][:4]\n",
    "palette_salmon = list(sns.light_palette(palette_tab10[1], n_colors=6))[::-1][:4]\n",
    "palette = palette_blue + palette_salmon\n",
    "\n",
    "df_ggmncv_gamma_dict = {}\n",
    "for gamma in gamma_dict[penalty]:\n",
    "    df_ggmncv = pd.DataFrame(ggmncv_gamma_score[penalty][gamma].T, \n",
    "                            columns = n_samples[left_outs[penalty]:]).assign(model=f\"{penalty} ($\\gamma$={gamma})\")\n",
    "    df_ggmncv_gamma_dict[gamma] = df_ggmncv\n",
    "\n",
    "cdf = pd.concat([df_cmf_dict[p_values[1]], df_cmf_dict[p_values[2]], \n",
    "                 df_cmf_dict[p_values[3]], df_cmf_dict[p_values[4]], \n",
    "                 df_ggmncv_gamma_dict[gamma_dict[penalty][0]], df_ggmncv_gamma_dict[gamma_dict[penalty][2]], \n",
    "                 df_ggmncv_gamma_dict[gamma_dict[penalty][3]], df_ggmncv_gamma_dict[gamma_dict[penalty][4]]])\n",
    "mdf = pd.melt(cdf, id_vars=['model'], var_name='# samples', value_name='f1')\n",
    "plt.figure()\n",
    "mdf_subset = mdf.loc[mdf['# samples'].isin([15,25,35,45])]\n",
    "ax = sns.boxplot(x=\"# samples\", y=score, hue=\"model\", data=mdf_subset, palette=palette)\n",
    "plt.title(penalty)\n",
    "plt.xticks(fontsize=14)\n",
    "plt.yticks([0.3,0.4,0.5,0.6,0.7], fontsize=14)\n",
    "plt.xlabel('# samples', fontsize=18)\n",
    "plt.ylabel(score, fontsize=18)\n",
    "plt.legend(ncol=2, loc='lower right')\n",
    "plt.savefig(f\"box_plot_{score}_flow_{penalty}_.pdf\", dpi=200,  bbox_inches='tight')\n",
    "plt.show()"
   ],
   "id": "697fb8afa191c4fb"
  },
  {
   "cell_type": "markdown",
   "metadata": {},
   "source": [
    "#### Conditional Matrix Flow (with p<1) vs MC+"
   ],
   "id": "f234464b7337bab8"
  },
  {
   "cell_type": "code",
   "execution_count": 74,
   "metadata": {},
   "outputs": [
    {
     "data": {
      "image/png": "[encoded data removed]",
      "text/plain": [
       "<Figure size 960x400 with 1 Axes>"
      ]
     },
     "metadata": {
      "needs_background": "light"
     },
     "output_type": "display_data"
    }
   ],
   "source": [
    "penalty = 'mcp'\n",
    "\n",
    "palette_blue = list(sns.light_palette(palette_tab10[0], n_colors=6))[::-1][:4]\n",
    "palette_salmon = list(sns.light_palette(palette_tab10[1], n_colors=6))[::-1][:4]\n",
    "palette = palette_blue + palette_salmon\n",
    "\n",
    "df_ggmncv_gamma_dict = {}\n",
    "for gamma in gamma_dict[penalty]:\n",
    "    df_ggmncv = pd.DataFrame(ggmncv_gamma_score[penalty][gamma].T, \n",
    "                            columns = n_samples[left_outs[penalty]:]).assign(model=f\"{penalty} ($\\gamma$={gamma})\")\n",
    "    df_ggmncv_gamma_dict[gamma] = df_ggmncv\n",
    "\n",
    "cdf = pd.concat([df_cmf_dict[p_values[1]], df_cmf_dict[p_values[2]], \n",
    "                 df_cmf_dict[p_values[3]], df_cmf_dict[p_values[4]], \n",
    "                 df_ggmncv_gamma_dict[gamma_dict[penalty][0]], df_ggmncv_gamma_dict[gamma_dict[penalty][2]], \n",
    "                 df_ggmncv_gamma_dict[gamma_dict[penalty][3]], df_ggmncv_gamma_dict[gamma_dict[penalty][4]]])\n",
    "mdf = pd.melt(cdf, id_vars=['model'], var_name='# samples', value_name=score)\n",
    "plt.figure()\n",
    "mdf_subset = mdf.loc[mdf['# samples'].isin([15,25,35,45])]\n",
    "ax = sns.boxplot(x=\"# samples\", y=score, hue=\"model\", data=mdf_subset, palette=palette)\n",
    "plt.title(penalty)\n",
    "plt.xticks(fontsize=14)\n",
    "plt.yticks([0.3,0.4,0.5,0.6,0.7], fontsize=14)\n",
    "plt.xlabel('# samples', fontsize=18)\n",
    "plt.ylabel(score, fontsize=18)\n",
    "plt.legend(ncol=2, loc='upper left')\n",
    "plt.savefig(f\"box_plot_{score}_flow_{penalty}_.pdf\", dpi=200,  bbox_inches='tight')\n",
    "plt.show()"
   ],
   "id": "b95e5c0c34393a4f"
  },
  {
   "cell_type": "code",
   "execution_count": null,
   "metadata": {},
   "outputs": [],
   "source": [],
   "id": "5a1d7ced5cedbcf1"
  }
 ],
 "metadata": {
  "kernelspec": {
   "display_name": "cond_flow",
   "language": "python",
   "name": "cond_flow"
  },
  "language_info": {
   "codemirror_mode": {
    "name": "ipython",
    "version": 3
   },
   "file_extension": ".py",
   "mimetype": "text/x-python",
   "name": "python",
   "nbconvert_exporter": "python",
   "pygments_lexer": "ipython3",
   "version": "3.8.0"
  }
 },
 "nbformat": 4,
 "nbformat_minor": 5
}
