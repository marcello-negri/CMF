{
 "cells": [
  {
   "cell_type": "code",
   "execution_count": 2,
   "metadata": {
    "ExecuteTime": {
     "end_time": "2023-10-26T16:54:54.829912511Z",
     "start_time": "2023-10-26T16:54:54.825956271Z"
    }
   },
   "outputs": [],
   "source": [
    "import numpy as np\n",
    "import scipy as sp\n",
    "import seaborn as sns\n",
    "import pandas as pd\n",
    "import torch\n",
    "import time\n",
    "from sklearn.datasets import make_sparse_spd_matrix\n",
    "from scipy.spatial.distance import squareform\n",
    "from sklearn.metrics import average_precision_score, matthews_corrcoef\n",
    "import matplotlib.pyplot as plt\n",
    "import utils_mcf"
   ],
   "id": "dbe9b941d844043b"
  },
  {
   "cell_type": "code",
   "execution_count": 3,
   "metadata": {
    "ExecuteTime": {
     "end_time": "2023-10-26T16:55:03.789958741Z",
     "start_time": "2023-10-26T16:54:59.060755303Z"
    }
   },
   "outputs": [],
   "source": [
    "import rpy2.robjects.packages as rpackages\n",
    "import anndata2ri\n",
    "\n",
    "anndata2ri.activate()\n",
    "%load_ext rpy2.ipython"
   ],
   "id": "7fd7d8e5837919a1"
  },
  {
   "cell_type": "code",
   "execution_count": 4,
   "metadata": {
    "ExecuteTime": {
     "end_time": "2023-10-26T16:55:04.640229570Z",
     "start_time": "2023-10-26T16:55:04.620047860Z"
    }
   },
   "outputs": [],
   "source": [
    "def structure_error(true, pred, thresholding=False, eps=1e-2, no_diagonal=False):\n",
    "    \"\"\"\n",
    "    + + + Code taken from https://github.com/fdtomasi/regain + + +\n",
    "    \n",
    "    Error in structure between a precision matrix and predicted.\n",
    "\n",
    "    Parameters\n",
    "    ----------\n",
    "    true: array-like\n",
    "        True matrix. In grpahical inference, if an entry is different from 0\n",
    "        it is consider as an edge (inverse covariance).\n",
    "\n",
    "    pred: array-like, shape=(d,d)\n",
    "        Predicted matrix. In graphical inference, if an entry is different\n",
    "        from 0 it is consider as an edge (inverse covariance).\n",
    "\n",
    "    thresholding: bool, default False,\n",
    "       Apply a threshold (with eps) to the `pred` matrix.\n",
    "\n",
    "    eps : float, default = 1e-2\n",
    "        Apply a threshold (with eps) to the `pred` matrix.\n",
    "\n",
    "    \"\"\"\n",
    "    # avoid inplace modifications\n",
    "    true = true.copy()\n",
    "    pred = pred.copy()\n",
    "    if true.ndim > 2:\n",
    "        y_true = np.array(flatten([squareform(x, checks=None) for x in true]))\n",
    "        y_pred = np.array(flatten([squareform(x, checks=None) for x in pred]))\n",
    "    else:\n",
    "        y_true = squareform(true, checks=None)\n",
    "        y_pred = squareform(pred, checks=None)\n",
    "\n",
    "    average_precision = average_precision_score(y_true > 0, y_pred)\n",
    "    mcc = matthews_corrcoef(y_true > 0, y_pred > 0)\n",
    "\n",
    "    if thresholding:\n",
    "        pred[np.abs(pred) < eps] = 0\n",
    "    tn_to_remove = 0\n",
    "    if no_diagonal:\n",
    "        if true.ndim > 2:\n",
    "            true = np.array([t - np.diag(np.diag(t)) for t in true])\n",
    "            pred = np.array([t - np.diag(np.diag(t)) for t in pred])\n",
    "            tn_to_remove = np.prod(true.shape[:2])\n",
    "        else:\n",
    "            true -= np.diag(np.diag(true))\n",
    "            pred -= np.diag(np.diag(pred))\n",
    "            tn_to_remove = true.shape[0]\n",
    "    true[true != 0] = 1\n",
    "    pred[pred != 0] = 2\n",
    "    res = true + pred\n",
    "    # from collections import Counter\n",
    "    # c = Counter(res.flat)\n",
    "    # tn, fn, fp, tp = c[0], c[1], c[2], c[3]\n",
    "    TN = np.count_nonzero((res == 0).astype(float)) - tn_to_remove\n",
    "    FN = np.count_nonzero((res == 1).astype(float))\n",
    "    FP = np.count_nonzero((res == 2).astype(float))\n",
    "    TP = np.count_nonzero((res == 3).astype(float))\n",
    "\n",
    "    precision = TP / (TP + FP) if TP + FP > 0 else 0\n",
    "    recall = TP / (TP + FN)\n",
    "    miss_rate = FN / (TP + FN) or 1 - recall\n",
    "    f1 = 2 * precision * recall / (precision + recall) if precision + recall > 0 else 0\n",
    "\n",
    "    accuracy = (TP + TN) / true.size\n",
    "    prevalence = (TP + FN) / true.size\n",
    "\n",
    "    fall_out = FP / (FP + TN) if (FP + TN) > 0 else 1\n",
    "    specificity = TN / (FP + TN) if (FP + TN) > 0 else 1.0 - fall_out\n",
    "\n",
    "    balanced_accuracy = 0.5 * (recall + specificity)\n",
    "    false_discovery_rate = FP / (TP + FP) if TP + FP > 0 else 1 - precision\n",
    "    false_omission_rate = FN / (FN + TN) if FN + TN > 0 else 0\n",
    "    negative_predicted_value = (\n",
    "        TN / (FN + TN) if FN + TN > 0 else 1 - false_omission_rate\n",
    "    )\n",
    "\n",
    "    positive_likelihood_ratio = recall / fall_out if fall_out > 0 else 0\n",
    "    negative_likelihood_ratio = miss_rate / specificity if specificity > 0 else 0\n",
    "    diagnostic_odds_ratio = (\n",
    "        positive_likelihood_ratio / negative_likelihood_ratio\n",
    "        if negative_likelihood_ratio > 0\n",
    "        else 0\n",
    "    )\n",
    "\n",
    "    dictionary = dict(\n",
    "        tp=TP,\n",
    "        tn=TN,\n",
    "        fp=FP,\n",
    "        fn=FN,\n",
    "        precision=precision,\n",
    "        recall=recall,\n",
    "        f1=f1,\n",
    "        accuracy=accuracy,\n",
    "        false_omission_rate=false_omission_rate,\n",
    "        fdr=false_discovery_rate,\n",
    "        npv=negative_predicted_value,\n",
    "        prevalence=prevalence,\n",
    "        miss_rate=miss_rate,\n",
    "        fall_out=fall_out,\n",
    "        specificity=specificity,\n",
    "        plr=positive_likelihood_ratio,\n",
    "        nlr=negative_likelihood_ratio,\n",
    "        dor=diagnostic_odds_ratio,\n",
    "        balanced_accuracy=balanced_accuracy,\n",
    "        average_precision=average_precision,\n",
    "        mcc=mcc,\n",
    "    )\n",
    "    return dictionary\n"
   ],
   "id": "9f5c91eca4247333"
  },
  {
   "cell_type": "code",
   "execution_count": 5,
   "metadata": {
    "ExecuteTime": {
     "end_time": "2023-10-26T16:55:07.486659975Z",
     "start_time": "2023-10-26T16:55:05.439048731Z"
    }
   },
   "outputs": [],
   "source": [
    "d = 30 # number of features\n",
    "seeds = [1, 2, 3, 4, 5, 6, 7, 8, 9, 10] # to generate 10 different ground truth precision matrices\n",
    "n_samples = [10, 15, 20, 25, 30, 35, 40, 45 ,50]\n",
    "p_values =  [0.1, 0.25, 0.5, 0.75, 1]\n",
    "penalties = ['atan', 'selo', 'exp', 'log', 'sica', 'scad', 'mcp', 'adapt', 'lasso']\n",
    "# some of the above algorithms (penalties) struggle in very low sample regimes,\n",
    "# so we consider the minimal working number of samples for each method separately\n",
    "left_outs = dict(zip(penalties, [0, 0, 2, 0, 0, 3, 4, 0, 0])) \n",
    "\n",
    "# generate 10 sparse precision matrices of dimendion d x d \n",
    "W_list, X_list = [], []\n",
    "for seed in seeds:\n",
    "    np.random.seed(seed)\n",
    "    W = make_sparse_spd_matrix(d, alpha=0.9, random_state=2)\n",
    "    cov = sp.linalg.inv(W)\n",
    "    distr = sp.stats.multivariate_normal(mean=np.zeros(d), cov=cov)\n",
    "    X = distr.rvs(100_000)\n",
    "    W_list.append(W)\n",
    "    X_list.append(X)"
   ],
   "id": "cf5bad47f4eb4479"
  },
  {
   "cell_type": "markdown",
   "metadata": {},
   "source": [
    "### Conditional Matrix Flows"
   ],
   "id": "a3f62cadce7abd05"
  },
  {
   "cell_type": "code",
   "execution_count": 8,
   "metadata": {
    "ExecuteTime": {
     "end_time": "2023-10-26T17:11:38.058464675Z",
     "start_time": "2023-10-26T16:56:05.353465972Z"
    }
   },
   "outputs": [
    {
     "name": "stdout",
     "output_type": "stream",
     "text": [
      "==============================   0   ==============================\n",
      "10\n"
     ]
    },
    {
     "name": "stderr",
     "output_type": "stream",
     "text": [
      "100%|██████████| 200/200 [00:02<00:00, 69.82it/s] \n",
      "100%|██████████| 200/200 [00:01<00:00, 137.42it/s]\n",
      "100%|██████████| 200/200 [00:01<00:00, 139.75it/s]\n",
      "100%|██████████| 200/200 [00:01<00:00, 143.16it/s]\n",
      "100%|██████████| 200/200 [00:01<00:00, 140.64it/s]\n"
     ]
    },
    {
     "name": "stdout",
     "output_type": "stream",
     "text": [
      "15\n"
     ]
    },
    {
     "name": "stderr",
     "output_type": "stream",
     "text": [
      "100%|██████████| 200/200 [00:01<00:00, 137.02it/s]\n",
      "100%|██████████| 200/200 [00:01<00:00, 150.15it/s]\n",
      "100%|██████████| 200/200 [00:01<00:00, 146.60it/s]\n",
      "100%|██████████| 200/200 [00:01<00:00, 137.97it/s]\n",
      "100%|██████████| 200/200 [00:01<00:00, 136.79it/s]\n"
     ]
    },
    {
     "name": "stdout",
     "output_type": "stream",
     "text": [
      "20\n"
     ]
    },
    {
     "name": "stderr",
     "output_type": "stream",
     "text": [
      "100%|██████████| 200/200 [00:01<00:00, 130.99it/s]\n",
      "100%|██████████| 200/200 [00:01<00:00, 150.88it/s]\n",
      "100%|██████████| 200/200 [00:01<00:00, 150.13it/s]\n",
      "100%|██████████| 200/200 [00:01<00:00, 133.46it/s]\n",
      "100%|██████████| 200/200 [00:01<00:00, 116.74it/s]\n"
     ]
    },
    {
     "name": "stdout",
     "output_type": "stream",
     "text": [
      "25\n"
     ]
    },
    {
     "name": "stderr",
     "output_type": "stream",
     "text": [
      "100%|██████████| 200/200 [00:01<00:00, 134.39it/s]\n",
      "100%|██████████| 200/200 [00:01<00:00, 146.25it/s]\n",
      "100%|██████████| 200/200 [00:01<00:00, 129.03it/s]\n",
      "100%|██████████| 200/200 [00:01<00:00, 135.44it/s]\n",
      "100%|██████████| 200/200 [00:01<00:00, 139.31it/s]\n"
     ]
    },
    {
     "name": "stdout",
     "output_type": "stream",
     "text": [
      "30\n"
     ]
    },
    {
     "name": "stderr",
     "output_type": "stream",
     "text": [
      "100%|██████████| 200/200 [00:01<00:00, 137.79it/s]\n",
      "100%|██████████| 200/200 [00:01<00:00, 137.20it/s]\n",
      "100%|██████████| 200/200 [00:01<00:00, 144.13it/s]\n",
      "100%|██████████| 200/200 [00:01<00:00, 138.55it/s]\n",
      "100%|██████████| 200/200 [00:01<00:00, 148.90it/s]\n"
     ]
    },
    {
     "name": "stdout",
     "output_type": "stream",
     "text": [
      "35\n"
     ]
    },
    {
     "name": "stderr",
     "output_type": "stream",
     "text": [
      "100%|██████████| 200/200 [00:01<00:00, 143.01it/s]\n",
      "100%|██████████| 200/200 [00:01<00:00, 116.46it/s]\n",
      "100%|██████████| 200/200 [00:01<00:00, 130.84it/s]\n",
      "100%|██████████| 200/200 [00:01<00:00, 135.76it/s]\n",
      "100%|██████████| 200/200 [00:01<00:00, 145.50it/s]\n"
     ]
    },
    {
     "name": "stdout",
     "output_type": "stream",
     "text": [
      "40\n"
     ]
    },
    {
     "name": "stderr",
     "output_type": "stream",
     "text": [
      "100%|██████████| 200/200 [00:01<00:00, 152.12it/s]\n",
      "100%|██████████| 200/200 [00:01<00:00, 154.76it/s]\n",
      "100%|██████████| 200/200 [00:01<00:00, 154.40it/s]\n",
      "100%|██████████| 200/200 [00:01<00:00, 155.06it/s]\n",
      "100%|██████████| 200/200 [00:01<00:00, 155.34it/s]\n"
     ]
    },
    {
     "name": "stdout",
     "output_type": "stream",
     "text": [
      "45\n"
     ]
    },
    {
     "name": "stderr",
     "output_type": "stream",
     "text": [
      "100%|██████████| 200/200 [00:01<00:00, 151.76it/s]\n",
      "100%|██████████| 200/200 [00:01<00:00, 153.38it/s]\n",
      "100%|██████████| 200/200 [00:01<00:00, 153.62it/s]\n",
      "100%|██████████| 200/200 [00:01<00:00, 155.38it/s]\n",
      "100%|██████████| 200/200 [00:01<00:00, 154.97it/s]\n"
     ]
    },
    {
     "name": "stdout",
     "output_type": "stream",
     "text": [
      "50\n"
     ]
    },
    {
     "name": "stderr",
     "output_type": "stream",
     "text": [
      "100%|██████████| 200/200 [00:01<00:00, 154.77it/s]\n",
      "100%|██████████| 200/200 [00:01<00:00, 153.92it/s]\n",
      "100%|██████████| 200/200 [00:01<00:00, 154.46it/s]\n",
      "100%|██████████| 200/200 [00:01<00:00, 156.62it/s]\n",
      "100%|██████████| 200/200 [00:01<00:00, 155.84it/s]\n"
     ]
    },
    {
     "name": "stdout",
     "output_type": "stream",
     "text": [
      "==============================   1   ==============================\n",
      "10\n"
     ]
    },
    {
     "name": "stderr",
     "output_type": "stream",
     "text": [
      "100%|██████████| 200/200 [00:01<00:00, 152.67it/s]\n",
      "100%|██████████| 200/200 [00:01<00:00, 155.31it/s]\n",
      "100%|██████████| 200/200 [00:01<00:00, 155.06it/s]\n",
      "100%|██████████| 200/200 [00:01<00:00, 155.67it/s]\n",
      "100%|██████████| 200/200 [00:01<00:00, 152.64it/s]\n"
     ]
    },
    {
     "name": "stdout",
     "output_type": "stream",
     "text": [
      "15\n"
     ]
    },
    {
     "name": "stderr",
     "output_type": "stream",
     "text": [
      "100%|██████████| 200/200 [00:01<00:00, 143.76it/s]\n",
      "100%|██████████| 200/200 [00:01<00:00, 145.10it/s]\n",
      "100%|██████████| 200/200 [00:01<00:00, 153.60it/s]\n",
      "100%|██████████| 200/200 [00:01<00:00, 155.40it/s]\n",
      "100%|██████████| 200/200 [00:01<00:00, 155.95it/s]\n"
     ]
    },
    {
     "name": "stdout",
     "output_type": "stream",
     "text": [
      "20\n"
     ]
    },
    {
     "name": "stderr",
     "output_type": "stream",
     "text": [
      "100%|██████████| 200/200 [00:01<00:00, 150.30it/s]\n",
      "100%|██████████| 200/200 [00:01<00:00, 154.89it/s]\n",
      "100%|██████████| 200/200 [00:01<00:00, 155.26it/s]\n",
      "100%|██████████| 200/200 [00:01<00:00, 155.33it/s]\n",
      "100%|██████████| 200/200 [00:01<00:00, 149.18it/s]\n"
     ]
    },
    {
     "name": "stdout",
     "output_type": "stream",
     "text": [
      "25\n"
     ]
    },
    {
     "name": "stderr",
     "output_type": "stream",
     "text": [
      "100%|██████████| 200/200 [00:01<00:00, 151.51it/s]\n",
      "100%|██████████| 200/200 [00:01<00:00, 153.46it/s]\n",
      "100%|██████████| 200/200 [00:01<00:00, 154.99it/s]\n",
      "100%|██████████| 200/200 [00:01<00:00, 154.55it/s]\n",
      "100%|██████████| 200/200 [00:01<00:00, 152.03it/s]\n"
     ]
    },
    {
     "name": "stdout",
     "output_type": "stream",
     "text": [
      "30\n"
     ]
    },
    {
     "name": "stderr",
     "output_type": "stream",
     "text": [
      "100%|██████████| 200/200 [00:01<00:00, 150.24it/s]\n",
      "100%|██████████| 200/200 [00:01<00:00, 150.20it/s]\n",
      "100%|██████████| 200/200 [00:01<00:00, 153.62it/s]\n",
      "100%|██████████| 200/200 [00:01<00:00, 153.81it/s]\n",
      "100%|██████████| 200/200 [00:01<00:00, 154.10it/s]\n"
     ]
    },
    {
     "name": "stdout",
     "output_type": "stream",
     "text": [
      "35\n"
     ]
    },
    {
     "name": "stderr",
     "output_type": "stream",
     "text": [
      "100%|██████████| 200/200 [00:01<00:00, 149.04it/s]\n",
      "100%|██████████| 200/200 [00:01<00:00, 141.57it/s]\n",
      "100%|██████████| 200/200 [00:01<00:00, 155.93it/s]\n",
      "100%|██████████| 200/200 [00:01<00:00, 155.98it/s]\n",
      "100%|██████████| 200/200 [00:01<00:00, 156.36it/s]\n"
     ]
    },
    {
     "name": "stdout",
     "output_type": "stream",
     "text": [
      "40\n"
     ]
    },
    {
     "name": "stderr",
     "output_type": "stream",
     "text": [
      "100%|██████████| 200/200 [00:01<00:00, 143.39it/s]\n",
      "100%|██████████| 200/200 [00:01<00:00, 145.16it/s]\n",
      "100%|██████████| 200/200 [00:01<00:00, 143.59it/s]\n",
      "100%|██████████| 200/200 [00:01<00:00, 154.17it/s]\n",
      "100%|██████████| 200/200 [00:01<00:00, 154.16it/s]\n"
     ]
    },
    {
     "name": "stdout",
     "output_type": "stream",
     "text": [
      "45\n"
     ]
    },
    {
     "name": "stderr",
     "output_type": "stream",
     "text": [
      "100%|██████████| 200/200 [00:01<00:00, 153.01it/s]\n",
      "100%|██████████| 200/200 [00:01<00:00, 156.38it/s]\n",
      "100%|██████████| 200/200 [00:01<00:00, 156.78it/s]\n",
      "100%|██████████| 200/200 [00:01<00:00, 156.04it/s]\n",
      "100%|██████████| 200/200 [00:01<00:00, 157.02it/s]\n"
     ]
    },
    {
     "name": "stdout",
     "output_type": "stream",
     "text": [
      "50\n"
     ]
    },
    {
     "name": "stderr",
     "output_type": "stream",
     "text": [
      "100%|██████████| 200/200 [00:01<00:00, 150.62it/s]\n",
      "100%|██████████| 200/200 [00:01<00:00, 153.62it/s]\n",
      "100%|██████████| 200/200 [00:01<00:00, 153.96it/s]\n",
      "100%|██████████| 200/200 [00:01<00:00, 155.05it/s]\n",
      "100%|██████████| 200/200 [00:01<00:00, 156.51it/s]\n"
     ]
    },
    {
     "name": "stdout",
     "output_type": "stream",
     "text": [
      "==============================   2   ==============================\n",
      "10\n"
     ]
    },
    {
     "name": "stderr",
     "output_type": "stream",
     "text": [
      "100%|██████████| 200/200 [00:01<00:00, 137.22it/s]\n",
      "100%|██████████| 200/200 [00:01<00:00, 156.44it/s]\n",
      "100%|██████████| 200/200 [00:01<00:00, 155.17it/s]\n",
      "100%|██████████| 200/200 [00:01<00:00, 153.55it/s]\n",
      "100%|██████████| 200/200 [00:01<00:00, 156.12it/s]\n"
     ]
    },
    {
     "name": "stdout",
     "output_type": "stream",
     "text": [
      "15\n"
     ]
    },
    {
     "name": "stderr",
     "output_type": "stream",
     "text": [
      "100%|██████████| 200/200 [00:01<00:00, 154.27it/s]\n",
      "100%|██████████| 200/200 [00:01<00:00, 148.28it/s]\n",
      "100%|██████████| 200/200 [00:01<00:00, 156.55it/s]\n",
      "100%|██████████| 200/200 [00:01<00:00, 156.82it/s]\n",
      "100%|██████████| 200/200 [00:01<00:00, 150.42it/s]\n"
     ]
    },
    {
     "name": "stdout",
     "output_type": "stream",
     "text": [
      "20\n"
     ]
    },
    {
     "name": "stderr",
     "output_type": "stream",
     "text": [
      "100%|██████████| 200/200 [00:01<00:00, 152.46it/s]\n",
      "100%|██████████| 200/200 [00:01<00:00, 153.49it/s]\n",
      "100%|██████████| 200/200 [00:01<00:00, 155.02it/s]\n",
      "100%|██████████| 200/200 [00:01<00:00, 155.61it/s]\n",
      "100%|██████████| 200/200 [00:01<00:00, 156.80it/s]\n"
     ]
    },
    {
     "name": "stdout",
     "output_type": "stream",
     "text": [
      "25\n"
     ]
    },
    {
     "name": "stderr",
     "output_type": "stream",
     "text": [
      "100%|██████████| 200/200 [00:01<00:00, 150.28it/s]\n",
      "100%|██████████| 200/200 [00:01<00:00, 153.95it/s]\n",
      "100%|██████████| 200/200 [00:01<00:00, 148.65it/s]\n",
      "100%|██████████| 200/200 [00:01<00:00, 145.10it/s]\n",
      "100%|██████████| 200/200 [00:01<00:00, 140.99it/s]\n"
     ]
    },
    {
     "name": "stdout",
     "output_type": "stream",
     "text": [
      "30\n"
     ]
    },
    {
     "name": "stderr",
     "output_type": "stream",
     "text": [
      "100%|██████████| 200/200 [00:01<00:00, 150.72it/s]\n",
      "100%|██████████| 200/200 [00:01<00:00, 152.56it/s]\n",
      "100%|██████████| 200/200 [00:01<00:00, 150.85it/s]\n",
      "100%|██████████| 200/200 [00:01<00:00, 155.38it/s]\n",
      "100%|██████████| 200/200 [00:01<00:00, 151.65it/s]\n"
     ]
    },
    {
     "name": "stdout",
     "output_type": "stream",
     "text": [
      "35\n"
     ]
    },
    {
     "name": "stderr",
     "output_type": "stream",
     "text": [
      "100%|██████████| 200/200 [00:01<00:00, 153.87it/s]\n",
      "100%|██████████| 200/200 [00:01<00:00, 155.71it/s]\n",
      "100%|██████████| 200/200 [00:01<00:00, 146.38it/s]\n",
      "100%|██████████| 200/200 [00:01<00:00, 150.36it/s]\n",
      "100%|██████████| 200/200 [00:01<00:00, 152.55it/s]\n"
     ]
    },
    {
     "name": "stdout",
     "output_type": "stream",
     "text": [
      "40\n"
     ]
    },
    {
     "name": "stderr",
     "output_type": "stream",
     "text": [
      "100%|██████████| 200/200 [00:01<00:00, 150.52it/s]\n",
      "100%|██████████| 200/200 [00:01<00:00, 153.84it/s]\n",
      "100%|██████████| 200/200 [00:01<00:00, 149.99it/s]\n",
      "100%|██████████| 200/200 [00:01<00:00, 146.58it/s]\n",
      "100%|██████████| 200/200 [00:01<00:00, 150.03it/s]\n"
     ]
    },
    {
     "name": "stdout",
     "output_type": "stream",
     "text": [
      "45\n"
     ]
    },
    {
     "name": "stderr",
     "output_type": "stream",
     "text": [
      "100%|██████████| 200/200 [00:01<00:00, 141.50it/s]\n",
      "100%|██████████| 200/200 [00:01<00:00, 141.44it/s]\n",
      "100%|██████████| 200/200 [00:01<00:00, 140.18it/s]\n",
      "100%|██████████| 200/200 [00:01<00:00, 147.06it/s]\n",
      "100%|██████████| 200/200 [00:01<00:00, 151.61it/s]\n"
     ]
    },
    {
     "name": "stdout",
     "output_type": "stream",
     "text": [
      "50\n"
     ]
    },
    {
     "name": "stderr",
     "output_type": "stream",
     "text": [
      "100%|██████████| 200/200 [00:01<00:00, 146.75it/s]\n",
      "100%|██████████| 200/200 [00:01<00:00, 155.28it/s]\n",
      "100%|██████████| 200/200 [00:01<00:00, 156.72it/s]\n",
      "100%|██████████| 200/200 [00:01<00:00, 155.28it/s]\n",
      "100%|██████████| 200/200 [00:01<00:00, 149.11it/s]\n"
     ]
    },
    {
     "name": "stdout",
     "output_type": "stream",
     "text": [
      "==============================   3   ==============================\n",
      "10\n"
     ]
    },
    {
     "name": "stderr",
     "output_type": "stream",
     "text": [
      "100%|██████████| 200/200 [00:01<00:00, 149.24it/s]\n",
      "100%|██████████| 200/200 [00:01<00:00, 153.54it/s]\n",
      "100%|██████████| 200/200 [00:01<00:00, 152.34it/s]\n",
      "100%|██████████| 200/200 [00:01<00:00, 151.66it/s]\n",
      "100%|██████████| 200/200 [00:01<00:00, 149.92it/s]\n"
     ]
    },
    {
     "name": "stdout",
     "output_type": "stream",
     "text": [
      "15\n"
     ]
    },
    {
     "name": "stderr",
     "output_type": "stream",
     "text": [
      "100%|██████████| 200/200 [00:01<00:00, 146.43it/s]\n",
      "100%|██████████| 200/200 [00:01<00:00, 151.13it/s]\n",
      "100%|██████████| 200/200 [00:01<00:00, 154.79it/s]\n",
      "100%|██████████| 200/200 [00:01<00:00, 153.68it/s]\n",
      "100%|██████████| 200/200 [00:01<00:00, 155.20it/s]\n"
     ]
    },
    {
     "name": "stdout",
     "output_type": "stream",
     "text": [
      "20\n"
     ]
    },
    {
     "name": "stderr",
     "output_type": "stream",
     "text": [
      "100%|██████████| 200/200 [00:01<00:00, 153.75it/s]\n",
      "100%|██████████| 200/200 [00:01<00:00, 150.24it/s]\n",
      "100%|██████████| 200/200 [00:01<00:00, 155.95it/s]\n",
      "100%|██████████| 200/200 [00:01<00:00, 151.23it/s]\n",
      "100%|██████████| 200/200 [00:01<00:00, 155.52it/s]\n"
     ]
    },
    {
     "name": "stdout",
     "output_type": "stream",
     "text": [
      "25\n"
     ]
    },
    {
     "name": "stderr",
     "output_type": "stream",
     "text": [
      "100%|██████████| 200/200 [00:01<00:00, 150.58it/s]\n",
      "100%|██████████| 200/200 [00:01<00:00, 153.95it/s]\n",
      "100%|██████████| 200/200 [00:01<00:00, 153.96it/s]\n",
      "100%|██████████| 200/200 [00:01<00:00, 154.67it/s]\n",
      "100%|██████████| 200/200 [00:01<00:00, 153.20it/s]\n"
     ]
    },
    {
     "name": "stdout",
     "output_type": "stream",
     "text": [
      "30\n"
     ]
    },
    {
     "name": "stderr",
     "output_type": "stream",
     "text": [
      "100%|██████████| 200/200 [00:01<00:00, 147.12it/s]\n",
      "100%|██████████| 200/200 [00:01<00:00, 155.41it/s]\n",
      "100%|██████████| 200/200 [00:01<00:00, 155.25it/s]\n",
      "100%|██████████| 200/200 [00:01<00:00, 155.77it/s]\n",
      "100%|██████████| 200/200 [00:01<00:00, 153.77it/s]\n"
     ]
    },
    {
     "name": "stdout",
     "output_type": "stream",
     "text": [
      "35\n"
     ]
    },
    {
     "name": "stderr",
     "output_type": "stream",
     "text": [
      "100%|██████████| 200/200 [00:01<00:00, 149.82it/s]\n",
      "100%|██████████| 200/200 [00:01<00:00, 156.58it/s]\n",
      "100%|██████████| 200/200 [00:01<00:00, 154.34it/s]\n",
      "100%|██████████| 200/200 [00:01<00:00, 143.90it/s]\n",
      "100%|██████████| 200/200 [00:01<00:00, 150.95it/s]\n"
     ]
    },
    {
     "name": "stdout",
     "output_type": "stream",
     "text": [
      "40\n"
     ]
    },
    {
     "name": "stderr",
     "output_type": "stream",
     "text": [
      "100%|██████████| 200/200 [00:01<00:00, 146.19it/s]\n",
      "100%|██████████| 200/200 [00:01<00:00, 150.73it/s]\n",
      "100%|██████████| 200/200 [00:01<00:00, 153.87it/s]\n",
      "100%|██████████| 200/200 [00:01<00:00, 152.36it/s]\n",
      "100%|██████████| 200/200 [00:01<00:00, 154.61it/s]\n"
     ]
    },
    {
     "name": "stdout",
     "output_type": "stream",
     "text": [
      "45\n"
     ]
    },
    {
     "name": "stderr",
     "output_type": "stream",
     "text": [
      "100%|██████████| 200/200 [00:01<00:00, 136.37it/s]\n",
      "100%|██████████| 200/200 [00:01<00:00, 141.84it/s]\n",
      "100%|██████████| 200/200 [00:01<00:00, 140.45it/s]\n",
      "100%|██████████| 200/200 [00:01<00:00, 146.11it/s]\n",
      "100%|██████████| 200/200 [00:01<00:00, 135.06it/s]\n"
     ]
    },
    {
     "name": "stdout",
     "output_type": "stream",
     "text": [
      "50\n"
     ]
    },
    {
     "name": "stderr",
     "output_type": "stream",
     "text": [
      "100%|██████████| 200/200 [00:01<00:00, 147.75it/s]\n",
      "100%|██████████| 200/200 [00:01<00:00, 150.05it/s]\n",
      "100%|██████████| 200/200 [00:01<00:00, 150.57it/s]\n",
      "100%|██████████| 200/200 [00:01<00:00, 149.47it/s]\n",
      "100%|██████████| 200/200 [00:01<00:00, 147.84it/s]\n"
     ]
    },
    {
     "name": "stdout",
     "output_type": "stream",
     "text": [
      "==============================   4   ==============================\n",
      "10\n"
     ]
    },
    {
     "name": "stderr",
     "output_type": "stream",
     "text": [
      "100%|██████████| 200/200 [00:01<00:00, 136.07it/s]\n",
      "100%|██████████| 200/200 [00:01<00:00, 144.79it/s]\n",
      "100%|██████████| 200/200 [00:01<00:00, 153.16it/s]\n",
      "100%|██████████| 200/200 [00:01<00:00, 152.37it/s]\n",
      "100%|██████████| 200/200 [00:01<00:00, 154.21it/s]\n"
     ]
    },
    {
     "name": "stdout",
     "output_type": "stream",
     "text": [
      "15\n"
     ]
    },
    {
     "name": "stderr",
     "output_type": "stream",
     "text": [
      "100%|██████████| 200/200 [00:01<00:00, 150.35it/s]\n",
      "100%|██████████| 200/200 [00:01<00:00, 154.34it/s]\n",
      "100%|██████████| 200/200 [00:01<00:00, 154.45it/s]\n",
      "100%|██████████| 200/200 [00:01<00:00, 153.83it/s]\n",
      "100%|██████████| 200/200 [00:01<00:00, 154.87it/s]\n"
     ]
    },
    {
     "name": "stdout",
     "output_type": "stream",
     "text": [
      "20\n"
     ]
    },
    {
     "name": "stderr",
     "output_type": "stream",
     "text": [
      "100%|██████████| 200/200 [00:01<00:00, 151.09it/s]\n",
      "100%|██████████| 200/200 [00:01<00:00, 152.44it/s]\n",
      "100%|██████████| 200/200 [00:01<00:00, 155.51it/s]\n",
      "100%|██████████| 200/200 [00:01<00:00, 151.41it/s]\n",
      "100%|██████████| 200/200 [00:01<00:00, 146.81it/s]\n"
     ]
    },
    {
     "name": "stdout",
     "output_type": "stream",
     "text": [
      "25\n"
     ]
    },
    {
     "name": "stderr",
     "output_type": "stream",
     "text": [
      "100%|██████████| 200/200 [00:01<00:00, 146.01it/s]\n",
      "100%|██████████| 200/200 [00:01<00:00, 149.13it/s]\n",
      "100%|██████████| 200/200 [00:01<00:00, 155.58it/s]\n",
      "100%|██████████| 200/200 [00:01<00:00, 156.32it/s]\n",
      "100%|██████████| 200/200 [00:01<00:00, 151.87it/s]\n"
     ]
    },
    {
     "name": "stdout",
     "output_type": "stream",
     "text": [
      "30\n"
     ]
    },
    {
     "name": "stderr",
     "output_type": "stream",
     "text": [
      "100%|██████████| 200/200 [00:01<00:00, 146.10it/s]\n",
      "100%|██████████| 200/200 [00:01<00:00, 143.29it/s]\n",
      "100%|██████████| 200/200 [00:01<00:00, 143.78it/s]\n",
      "100%|██████████| 200/200 [00:01<00:00, 152.75it/s]\n",
      "100%|██████████| 200/200 [00:01<00:00, 154.63it/s]\n"
     ]
    },
    {
     "name": "stdout",
     "output_type": "stream",
     "text": [
      "35\n"
     ]
    },
    {
     "name": "stderr",
     "output_type": "stream",
     "text": [
      "100%|██████████| 200/200 [00:01<00:00, 149.86it/s]\n",
      "100%|██████████| 200/200 [00:01<00:00, 154.29it/s]\n",
      "100%|██████████| 200/200 [00:01<00:00, 157.14it/s]\n",
      "100%|██████████| 200/200 [00:01<00:00, 157.21it/s]\n",
      "100%|██████████| 200/200 [00:01<00:00, 155.67it/s]\n"
     ]
    },
    {
     "name": "stdout",
     "output_type": "stream",
     "text": [
      "40\n"
     ]
    },
    {
     "name": "stderr",
     "output_type": "stream",
     "text": [
      "100%|██████████| 200/200 [00:01<00:00, 154.71it/s]\n",
      "100%|██████████| 200/200 [00:01<00:00, 153.78it/s]\n",
      "100%|██████████| 200/200 [00:01<00:00, 156.40it/s]\n",
      "100%|██████████| 200/200 [00:01<00:00, 156.56it/s]\n",
      "100%|██████████| 200/200 [00:01<00:00, 156.17it/s]\n"
     ]
    },
    {
     "name": "stdout",
     "output_type": "stream",
     "text": [
      "45\n"
     ]
    },
    {
     "name": "stderr",
     "output_type": "stream",
     "text": [
      "100%|██████████| 200/200 [00:01<00:00, 150.36it/s]\n",
      "100%|██████████| 200/200 [00:01<00:00, 155.77it/s]\n",
      "100%|██████████| 200/200 [00:01<00:00, 149.68it/s]\n",
      "100%|██████████| 200/200 [00:01<00:00, 153.14it/s]\n",
      "100%|██████████| 200/200 [00:01<00:00, 154.79it/s]\n"
     ]
    },
    {
     "name": "stdout",
     "output_type": "stream",
     "text": [
      "50\n"
     ]
    },
    {
     "name": "stderr",
     "output_type": "stream",
     "text": [
      "100%|██████████| 200/200 [00:01<00:00, 150.51it/s]\n",
      "100%|██████████| 200/200 [00:01<00:00, 152.96it/s]\n",
      "100%|██████████| 200/200 [00:01<00:00, 148.89it/s]\n",
      "100%|██████████| 200/200 [00:01<00:00, 146.01it/s]\n",
      "100%|██████████| 200/200 [00:01<00:00, 152.07it/s]\n"
     ]
    },
    {
     "name": "stdout",
     "output_type": "stream",
     "text": [
      "==============================   5   ==============================\n",
      "10\n"
     ]
    },
    {
     "name": "stderr",
     "output_type": "stream",
     "text": [
      "100%|██████████| 200/200 [00:01<00:00, 152.31it/s]\n",
      "100%|██████████| 200/200 [00:01<00:00, 155.50it/s]\n",
      "100%|██████████| 200/200 [00:01<00:00, 154.88it/s]\n",
      "100%|██████████| 200/200 [00:01<00:00, 155.98it/s]\n",
      "100%|██████████| 200/200 [00:01<00:00, 155.85it/s]\n"
     ]
    },
    {
     "name": "stdout",
     "output_type": "stream",
     "text": [
      "15\n"
     ]
    },
    {
     "name": "stderr",
     "output_type": "stream",
     "text": [
      "100%|██████████| 200/200 [00:01<00:00, 149.89it/s]\n",
      "100%|██████████| 200/200 [00:01<00:00, 153.62it/s]\n",
      "100%|██████████| 200/200 [00:01<00:00, 153.14it/s]\n",
      "100%|██████████| 200/200 [00:01<00:00, 155.70it/s]\n",
      "100%|██████████| 200/200 [00:01<00:00, 154.65it/s]\n"
     ]
    },
    {
     "name": "stdout",
     "output_type": "stream",
     "text": [
      "20\n"
     ]
    },
    {
     "name": "stderr",
     "output_type": "stream",
     "text": [
      "100%|██████████| 200/200 [00:01<00:00, 151.26it/s]\n",
      "100%|██████████| 200/200 [00:01<00:00, 156.43it/s]\n",
      "100%|██████████| 200/200 [00:01<00:00, 154.22it/s]\n",
      "100%|██████████| 200/200 [00:01<00:00, 155.42it/s]\n",
      "100%|██████████| 200/200 [00:01<00:00, 155.74it/s]\n"
     ]
    },
    {
     "name": "stdout",
     "output_type": "stream",
     "text": [
      "25\n"
     ]
    },
    {
     "name": "stderr",
     "output_type": "stream",
     "text": [
      "100%|██████████| 200/200 [00:01<00:00, 151.43it/s]\n",
      "100%|██████████| 200/200 [00:01<00:00, 155.12it/s]\n",
      "100%|██████████| 200/200 [00:01<00:00, 153.25it/s]\n",
      "100%|██████████| 200/200 [00:01<00:00, 155.90it/s]\n",
      "100%|██████████| 200/200 [00:01<00:00, 155.34it/s]\n"
     ]
    },
    {
     "name": "stdout",
     "output_type": "stream",
     "text": [
      "30\n"
     ]
    },
    {
     "name": "stderr",
     "output_type": "stream",
     "text": [
      "100%|██████████| 200/200 [00:01<00:00, 152.54it/s]\n",
      "100%|██████████| 200/200 [00:01<00:00, 155.36it/s]\n",
      "100%|██████████| 200/200 [00:01<00:00, 147.72it/s]\n",
      "100%|██████████| 200/200 [00:01<00:00, 143.01it/s]\n",
      "100%|██████████| 200/200 [00:01<00:00, 145.76it/s]\n"
     ]
    },
    {
     "name": "stdout",
     "output_type": "stream",
     "text": [
      "35\n"
     ]
    },
    {
     "name": "stderr",
     "output_type": "stream",
     "text": [
      "100%|██████████| 200/200 [00:01<00:00, 144.63it/s]\n",
      "100%|██████████| 200/200 [00:01<00:00, 155.46it/s]\n",
      "100%|██████████| 200/200 [00:01<00:00, 155.93it/s]\n",
      "100%|██████████| 200/200 [00:01<00:00, 146.77it/s]\n",
      "100%|██████████| 200/200 [00:01<00:00, 150.32it/s]\n"
     ]
    },
    {
     "name": "stdout",
     "output_type": "stream",
     "text": [
      "40\n"
     ]
    },
    {
     "name": "stderr",
     "output_type": "stream",
     "text": [
      "100%|██████████| 200/200 [00:01<00:00, 148.93it/s]\n",
      "100%|██████████| 200/200 [00:01<00:00, 142.27it/s]\n",
      "100%|██████████| 200/200 [00:01<00:00, 145.72it/s]\n",
      "100%|██████████| 200/200 [00:01<00:00, 134.19it/s]\n",
      "100%|██████████| 200/200 [00:01<00:00, 145.35it/s]\n"
     ]
    },
    {
     "name": "stdout",
     "output_type": "stream",
     "text": [
      "45\n"
     ]
    },
    {
     "name": "stderr",
     "output_type": "stream",
     "text": [
      "100%|██████████| 200/200 [00:01<00:00, 146.44it/s]\n",
      "100%|██████████| 200/200 [00:01<00:00, 156.58it/s]\n",
      "100%|██████████| 200/200 [00:01<00:00, 156.00it/s]\n",
      "100%|██████████| 200/200 [00:01<00:00, 153.07it/s]\n",
      "100%|██████████| 200/200 [00:01<00:00, 155.36it/s]\n"
     ]
    },
    {
     "name": "stdout",
     "output_type": "stream",
     "text": [
      "50\n"
     ]
    },
    {
     "name": "stderr",
     "output_type": "stream",
     "text": [
      "100%|██████████| 200/200 [00:01<00:00, 151.68it/s]\n",
      "100%|██████████| 200/200 [00:01<00:00, 157.52it/s]\n",
      "100%|██████████| 200/200 [00:01<00:00, 157.34it/s]\n",
      "100%|██████████| 200/200 [00:01<00:00, 157.06it/s]\n",
      "100%|██████████| 200/200 [00:01<00:00, 156.61it/s]\n"
     ]
    },
    {
     "name": "stdout",
     "output_type": "stream",
     "text": [
      "==============================   6   ==============================\n",
      "10\n"
     ]
    },
    {
     "name": "stderr",
     "output_type": "stream",
     "text": [
      "100%|██████████| 200/200 [00:01<00:00, 152.70it/s]\n",
      "100%|██████████| 200/200 [00:01<00:00, 155.57it/s]\n",
      "100%|██████████| 200/200 [00:01<00:00, 156.04it/s]\n",
      "100%|██████████| 200/200 [00:01<00:00, 155.54it/s]\n",
      "100%|██████████| 200/200 [00:01<00:00, 156.51it/s]\n"
     ]
    },
    {
     "name": "stdout",
     "output_type": "stream",
     "text": [
      "15\n"
     ]
    },
    {
     "name": "stderr",
     "output_type": "stream",
     "text": [
      "100%|██████████| 200/200 [00:01<00:00, 143.34it/s]\n",
      "100%|██████████| 200/200 [00:01<00:00, 155.99it/s]\n",
      "100%|██████████| 200/200 [00:01<00:00, 154.17it/s]\n",
      "100%|██████████| 200/200 [00:01<00:00, 143.98it/s]\n",
      "100%|██████████| 200/200 [00:01<00:00, 153.19it/s]\n"
     ]
    },
    {
     "name": "stdout",
     "output_type": "stream",
     "text": [
      "20\n"
     ]
    },
    {
     "name": "stderr",
     "output_type": "stream",
     "text": [
      "100%|██████████| 200/200 [00:01<00:00, 143.00it/s]\n",
      "100%|██████████| 200/200 [00:01<00:00, 151.05it/s]\n",
      "100%|██████████| 200/200 [00:01<00:00, 147.98it/s]\n",
      "100%|██████████| 200/200 [00:01<00:00, 148.79it/s]\n",
      "100%|██████████| 200/200 [00:01<00:00, 148.45it/s]\n"
     ]
    },
    {
     "name": "stdout",
     "output_type": "stream",
     "text": [
      "25\n"
     ]
    },
    {
     "name": "stderr",
     "output_type": "stream",
     "text": [
      "100%|██████████| 200/200 [00:01<00:00, 142.64it/s]\n",
      "100%|██████████| 200/200 [00:01<00:00, 151.14it/s]\n",
      "100%|██████████| 200/200 [00:01<00:00, 151.07it/s]\n",
      "100%|██████████| 200/200 [00:01<00:00, 149.66it/s]\n",
      "100%|██████████| 200/200 [00:01<00:00, 147.20it/s]\n"
     ]
    },
    {
     "name": "stdout",
     "output_type": "stream",
     "text": [
      "30\n"
     ]
    },
    {
     "name": "stderr",
     "output_type": "stream",
     "text": [
      "100%|██████████| 200/200 [00:01<00:00, 143.22it/s]\n",
      "100%|██████████| 200/200 [00:01<00:00, 144.22it/s]\n",
      "100%|██████████| 200/200 [00:01<00:00, 145.16it/s]\n",
      "100%|██████████| 200/200 [00:01<00:00, 147.50it/s]\n",
      "100%|██████████| 200/200 [00:01<00:00, 148.16it/s]\n"
     ]
    },
    {
     "name": "stdout",
     "output_type": "stream",
     "text": [
      "35\n"
     ]
    },
    {
     "name": "stderr",
     "output_type": "stream",
     "text": [
      "100%|██████████| 200/200 [00:01<00:00, 144.81it/s]\n",
      "100%|██████████| 200/200 [00:01<00:00, 150.41it/s]\n",
      "100%|██████████| 200/200 [00:01<00:00, 148.74it/s]\n",
      "100%|██████████| 200/200 [00:01<00:00, 146.52it/s]\n",
      "100%|██████████| 200/200 [00:01<00:00, 146.71it/s]\n"
     ]
    },
    {
     "name": "stdout",
     "output_type": "stream",
     "text": [
      "40\n"
     ]
    },
    {
     "name": "stderr",
     "output_type": "stream",
     "text": [
      "100%|██████████| 200/200 [00:01<00:00, 139.26it/s]\n",
      "100%|██████████| 200/200 [00:01<00:00, 150.89it/s]\n",
      "100%|██████████| 200/200 [00:01<00:00, 137.91it/s]\n",
      "100%|██████████| 200/200 [00:01<00:00, 147.34it/s]\n",
      "100%|██████████| 200/200 [00:01<00:00, 149.18it/s]\n"
     ]
    },
    {
     "name": "stdout",
     "output_type": "stream",
     "text": [
      "45\n"
     ]
    },
    {
     "name": "stderr",
     "output_type": "stream",
     "text": [
      "100%|██████████| 200/200 [00:01<00:00, 144.23it/s]\n",
      "100%|██████████| 200/200 [00:01<00:00, 149.25it/s]\n",
      "100%|██████████| 200/200 [00:01<00:00, 150.41it/s]\n",
      "100%|██████████| 200/200 [00:01<00:00, 148.06it/s]\n",
      "100%|██████████| 200/200 [00:01<00:00, 140.54it/s]\n"
     ]
    },
    {
     "name": "stdout",
     "output_type": "stream",
     "text": [
      "50\n"
     ]
    },
    {
     "name": "stderr",
     "output_type": "stream",
     "text": [
      "100%|██████████| 200/200 [00:01<00:00, 148.39it/s]\n",
      "100%|██████████| 200/200 [00:01<00:00, 150.53it/s]\n",
      "100%|██████████| 200/200 [00:01<00:00, 149.72it/s]\n",
      "100%|██████████| 200/200 [00:01<00:00, 144.37it/s]\n",
      "100%|██████████| 200/200 [00:01<00:00, 144.46it/s]\n"
     ]
    },
    {
     "name": "stdout",
     "output_type": "stream",
     "text": [
      "==============================   7   ==============================\n",
      "10\n"
     ]
    },
    {
     "name": "stderr",
     "output_type": "stream",
     "text": [
      "100%|██████████| 200/200 [00:01<00:00, 144.40it/s]\n",
      "100%|██████████| 200/200 [00:01<00:00, 150.28it/s]\n",
      "100%|██████████| 200/200 [00:01<00:00, 146.15it/s]\n",
      "100%|██████████| 200/200 [00:01<00:00, 149.41it/s]\n",
      "100%|██████████| 200/200 [00:01<00:00, 151.58it/s]\n"
     ]
    },
    {
     "name": "stdout",
     "output_type": "stream",
     "text": [
      "15\n"
     ]
    },
    {
     "name": "stderr",
     "output_type": "stream",
     "text": [
      "100%|██████████| 200/200 [00:01<00:00, 130.48it/s]\n",
      "100%|██████████| 200/200 [00:01<00:00, 148.20it/s]\n",
      "100%|██████████| 200/200 [00:01<00:00, 145.18it/s]\n",
      "100%|██████████| 200/200 [00:01<00:00, 147.15it/s]\n",
      "100%|██████████| 200/200 [00:01<00:00, 149.77it/s]\n"
     ]
    },
    {
     "name": "stdout",
     "output_type": "stream",
     "text": [
      "20\n"
     ]
    },
    {
     "name": "stderr",
     "output_type": "stream",
     "text": [
      "100%|██████████| 200/200 [00:01<00:00, 141.00it/s]\n",
      "100%|██████████| 200/200 [00:01<00:00, 146.81it/s]\n",
      "100%|██████████| 200/200 [00:01<00:00, 146.76it/s]\n",
      "100%|██████████| 200/200 [00:01<00:00, 148.20it/s]\n",
      "100%|██████████| 200/200 [00:01<00:00, 146.25it/s]\n"
     ]
    },
    {
     "name": "stdout",
     "output_type": "stream",
     "text": [
      "25\n"
     ]
    },
    {
     "name": "stderr",
     "output_type": "stream",
     "text": [
      "100%|██████████| 200/200 [00:01<00:00, 148.86it/s]\n",
      "100%|██████████| 200/200 [00:01<00:00, 148.45it/s]\n",
      "100%|██████████| 200/200 [00:01<00:00, 147.78it/s]\n",
      "100%|██████████| 200/200 [00:01<00:00, 146.69it/s]\n",
      "100%|██████████| 200/200 [00:01<00:00, 148.18it/s]\n"
     ]
    },
    {
     "name": "stdout",
     "output_type": "stream",
     "text": [
      "30\n"
     ]
    },
    {
     "name": "stderr",
     "output_type": "stream",
     "text": [
      "100%|██████████| 200/200 [00:01<00:00, 139.89it/s]\n",
      "100%|██████████| 200/200 [00:01<00:00, 152.51it/s]\n",
      "100%|██████████| 200/200 [00:01<00:00, 148.02it/s]\n",
      "100%|██████████| 200/200 [00:01<00:00, 148.15it/s]\n",
      "100%|██████████| 200/200 [00:01<00:00, 150.49it/s]\n"
     ]
    },
    {
     "name": "stdout",
     "output_type": "stream",
     "text": [
      "35\n"
     ]
    },
    {
     "name": "stderr",
     "output_type": "stream",
     "text": [
      "100%|██████████| 200/200 [00:01<00:00, 137.05it/s]\n",
      "100%|██████████| 200/200 [00:01<00:00, 135.87it/s]\n",
      "100%|██████████| 200/200 [00:01<00:00, 137.09it/s]\n",
      "100%|██████████| 200/200 [00:01<00:00, 148.88it/s]\n",
      "100%|██████████| 200/200 [00:01<00:00, 147.54it/s]\n"
     ]
    },
    {
     "name": "stdout",
     "output_type": "stream",
     "text": [
      "40\n"
     ]
    },
    {
     "name": "stderr",
     "output_type": "stream",
     "text": [
      "100%|██████████| 200/200 [00:01<00:00, 147.96it/s]\n",
      "100%|██████████| 200/200 [00:01<00:00, 142.30it/s]\n",
      "100%|██████████| 200/200 [00:01<00:00, 141.27it/s]\n",
      "100%|██████████| 200/200 [00:01<00:00, 133.21it/s]\n",
      "100%|██████████| 200/200 [00:01<00:00, 140.53it/s]\n"
     ]
    },
    {
     "name": "stdout",
     "output_type": "stream",
     "text": [
      "45\n"
     ]
    },
    {
     "name": "stderr",
     "output_type": "stream",
     "text": [
      "100%|██████████| 200/200 [00:01<00:00, 141.02it/s]\n",
      "100%|██████████| 200/200 [00:01<00:00, 145.54it/s]\n",
      "100%|██████████| 200/200 [00:01<00:00, 151.19it/s]\n",
      "100%|██████████| 200/200 [00:01<00:00, 150.46it/s]\n",
      "100%|██████████| 200/200 [00:01<00:00, 148.08it/s]\n"
     ]
    },
    {
     "name": "stdout",
     "output_type": "stream",
     "text": [
      "50\n"
     ]
    },
    {
     "name": "stderr",
     "output_type": "stream",
     "text": [
      "100%|██████████| 200/200 [00:01<00:00, 134.19it/s]\n",
      "100%|██████████| 200/200 [00:01<00:00, 142.42it/s]\n",
      "100%|██████████| 200/200 [00:01<00:00, 148.97it/s]\n",
      "100%|██████████| 200/200 [00:01<00:00, 152.43it/s]\n",
      "100%|██████████| 200/200 [00:01<00:00, 156.20it/s]\n"
     ]
    },
    {
     "name": "stdout",
     "output_type": "stream",
     "text": [
      "==============================   8   ==============================\n",
      "10\n"
     ]
    },
    {
     "name": "stderr",
     "output_type": "stream",
     "text": [
      "100%|██████████| 200/200 [00:01<00:00, 137.67it/s]\n",
      "100%|██████████| 200/200 [00:01<00:00, 143.61it/s]\n",
      "100%|██████████| 200/200 [00:01<00:00, 147.41it/s]\n",
      "100%|██████████| 200/200 [00:01<00:00, 142.95it/s]\n",
      "100%|██████████| 200/200 [00:01<00:00, 149.55it/s]\n"
     ]
    },
    {
     "name": "stdout",
     "output_type": "stream",
     "text": [
      "15\n"
     ]
    },
    {
     "name": "stderr",
     "output_type": "stream",
     "text": [
      "100%|██████████| 200/200 [00:01<00:00, 143.03it/s]\n",
      "100%|██████████| 200/200 [00:01<00:00, 145.84it/s]\n",
      "100%|██████████| 200/200 [00:01<00:00, 152.48it/s]\n",
      "100%|██████████| 200/200 [00:01<00:00, 154.31it/s]\n",
      "100%|██████████| 200/200 [00:01<00:00, 153.26it/s]\n"
     ]
    },
    {
     "name": "stdout",
     "output_type": "stream",
     "text": [
      "20\n"
     ]
    },
    {
     "name": "stderr",
     "output_type": "stream",
     "text": [
      "100%|██████████| 200/200 [00:01<00:00, 147.15it/s]\n",
      "100%|██████████| 200/200 [00:01<00:00, 147.87it/s]\n",
      "100%|██████████| 200/200 [00:01<00:00, 144.53it/s]\n",
      "100%|██████████| 200/200 [00:01<00:00, 140.39it/s]\n",
      "100%|██████████| 200/200 [00:01<00:00, 144.19it/s]\n"
     ]
    },
    {
     "name": "stdout",
     "output_type": "stream",
     "text": [
      "25\n"
     ]
    },
    {
     "name": "stderr",
     "output_type": "stream",
     "text": [
      "100%|██████████| 200/200 [00:01<00:00, 141.85it/s]\n",
      "100%|██████████| 200/200 [00:01<00:00, 144.35it/s]\n",
      "100%|██████████| 200/200 [00:01<00:00, 150.89it/s]\n",
      "100%|██████████| 200/200 [00:01<00:00, 150.53it/s]\n",
      "100%|██████████| 200/200 [00:01<00:00, 151.30it/s]\n"
     ]
    },
    {
     "name": "stdout",
     "output_type": "stream",
     "text": [
      "30\n"
     ]
    },
    {
     "name": "stderr",
     "output_type": "stream",
     "text": [
      "100%|██████████| 200/200 [00:01<00:00, 144.26it/s]\n",
      "100%|██████████| 200/200 [00:01<00:00, 149.30it/s]\n",
      "100%|██████████| 200/200 [00:01<00:00, 149.27it/s]\n",
      "100%|██████████| 200/200 [00:01<00:00, 144.24it/s]\n",
      "100%|██████████| 200/200 [00:01<00:00, 150.14it/s]\n"
     ]
    },
    {
     "name": "stdout",
     "output_type": "stream",
     "text": [
      "35\n"
     ]
    },
    {
     "name": "stderr",
     "output_type": "stream",
     "text": [
      "100%|██████████| 200/200 [00:01<00:00, 146.49it/s]\n",
      "100%|██████████| 200/200 [00:01<00:00, 146.92it/s]\n",
      "100%|██████████| 200/200 [00:01<00:00, 152.05it/s]\n",
      "100%|██████████| 200/200 [00:01<00:00, 151.34it/s]\n",
      "100%|██████████| 200/200 [00:01<00:00, 148.76it/s]\n"
     ]
    },
    {
     "name": "stdout",
     "output_type": "stream",
     "text": [
      "40\n"
     ]
    },
    {
     "name": "stderr",
     "output_type": "stream",
     "text": [
      "100%|██████████| 200/200 [00:01<00:00, 146.77it/s]\n",
      "100%|██████████| 200/200 [00:01<00:00, 151.69it/s]\n",
      "100%|██████████| 200/200 [00:01<00:00, 150.51it/s]\n",
      "100%|██████████| 200/200 [00:01<00:00, 148.47it/s]\n",
      "100%|██████████| 200/200 [00:01<00:00, 152.93it/s]\n"
     ]
    },
    {
     "name": "stdout",
     "output_type": "stream",
     "text": [
      "45\n"
     ]
    },
    {
     "name": "stderr",
     "output_type": "stream",
     "text": [
      "100%|██████████| 200/200 [00:01<00:00, 143.64it/s]\n",
      "100%|██████████| 200/200 [00:01<00:00, 154.61it/s]\n",
      "100%|██████████| 200/200 [00:01<00:00, 155.50it/s]\n",
      "100%|██████████| 200/200 [00:01<00:00, 152.18it/s]\n",
      "100%|██████████| 200/200 [00:01<00:00, 153.31it/s]\n"
     ]
    },
    {
     "name": "stdout",
     "output_type": "stream",
     "text": [
      "50\n"
     ]
    },
    {
     "name": "stderr",
     "output_type": "stream",
     "text": [
      "100%|██████████| 200/200 [00:01<00:00, 149.06it/s]\n",
      "100%|██████████| 200/200 [00:01<00:00, 150.85it/s]\n",
      "100%|██████████| 200/200 [00:01<00:00, 153.55it/s]\n",
      "100%|██████████| 200/200 [00:01<00:00, 152.21it/s]\n",
      "100%|██████████| 200/200 [00:01<00:00, 154.84it/s]\n"
     ]
    },
    {
     "name": "stdout",
     "output_type": "stream",
     "text": [
      "==============================   9   ==============================\n",
      "10\n"
     ]
    },
    {
     "name": "stderr",
     "output_type": "stream",
     "text": [
      "100%|██████████| 200/200 [00:01<00:00, 146.90it/s]\n",
      "100%|██████████| 200/200 [00:01<00:00, 150.90it/s]\n",
      "100%|██████████| 200/200 [00:01<00:00, 147.19it/s]\n",
      "100%|██████████| 200/200 [00:01<00:00, 145.54it/s]\n",
      "100%|██████████| 200/200 [00:01<00:00, 143.87it/s]\n"
     ]
    },
    {
     "name": "stdout",
     "output_type": "stream",
     "text": [
      "15\n"
     ]
    },
    {
     "name": "stderr",
     "output_type": "stream",
     "text": [
      "100%|██████████| 200/200 [00:01<00:00, 136.39it/s]\n",
      "100%|██████████| 200/200 [00:01<00:00, 131.03it/s]\n",
      "100%|██████████| 200/200 [00:01<00:00, 153.04it/s]\n",
      "100%|██████████| 200/200 [00:01<00:00, 136.68it/s]\n",
      "100%|██████████| 200/200 [00:01<00:00, 153.05it/s]\n"
     ]
    },
    {
     "name": "stdout",
     "output_type": "stream",
     "text": [
      "20\n"
     ]
    },
    {
     "name": "stderr",
     "output_type": "stream",
     "text": [
      "100%|██████████| 200/200 [00:01<00:00, 136.81it/s]\n",
      "100%|██████████| 200/200 [00:01<00:00, 148.89it/s]\n",
      "100%|██████████| 200/200 [00:01<00:00, 152.99it/s]\n",
      "100%|██████████| 200/200 [00:01<00:00, 136.71it/s]\n",
      "100%|██████████| 200/200 [00:01<00:00, 133.72it/s]\n"
     ]
    },
    {
     "name": "stdout",
     "output_type": "stream",
     "text": [
      "25\n"
     ]
    },
    {
     "name": "stderr",
     "output_type": "stream",
     "text": [
      "100%|██████████| 200/200 [00:01<00:00, 126.91it/s]\n",
      "100%|██████████| 200/200 [00:01<00:00, 136.59it/s]\n",
      "100%|██████████| 200/200 [00:01<00:00, 143.45it/s]\n",
      "100%|██████████| 200/200 [00:01<00:00, 116.98it/s]\n",
      "100%|██████████| 200/200 [00:01<00:00, 136.91it/s]\n"
     ]
    },
    {
     "name": "stdout",
     "output_type": "stream",
     "text": [
      "30\n"
     ]
    },
    {
     "name": "stderr",
     "output_type": "stream",
     "text": [
      "100%|██████████| 200/200 [00:01<00:00, 137.92it/s]\n",
      "100%|██████████| 200/200 [00:01<00:00, 141.97it/s]\n",
      "100%|██████████| 200/200 [00:01<00:00, 145.92it/s]\n",
      "100%|██████████| 200/200 [00:01<00:00, 142.54it/s]\n",
      "100%|██████████| 200/200 [00:01<00:00, 143.21it/s]\n"
     ]
    },
    {
     "name": "stdout",
     "output_type": "stream",
     "text": [
      "35\n"
     ]
    },
    {
     "name": "stderr",
     "output_type": "stream",
     "text": [
      "100%|██████████| 200/200 [00:01<00:00, 145.66it/s]\n",
      "100%|██████████| 200/200 [00:01<00:00, 152.21it/s]\n",
      "100%|██████████| 200/200 [00:01<00:00, 149.97it/s]\n",
      "100%|██████████| 200/200 [00:01<00:00, 151.08it/s]\n",
      "100%|██████████| 200/200 [00:01<00:00, 153.62it/s]\n"
     ]
    },
    {
     "name": "stdout",
     "output_type": "stream",
     "text": [
      "40\n"
     ]
    },
    {
     "name": "stderr",
     "output_type": "stream",
     "text": [
      "100%|██████████| 200/200 [00:01<00:00, 146.87it/s]\n",
      "100%|██████████| 200/200 [00:01<00:00, 150.10it/s]\n",
      "100%|██████████| 200/200 [00:01<00:00, 150.60it/s]\n",
      "100%|██████████| 200/200 [00:01<00:00, 146.19it/s]\n",
      "100%|██████████| 200/200 [00:01<00:00, 150.12it/s]\n"
     ]
    },
    {
     "name": "stdout",
     "output_type": "stream",
     "text": [
      "45\n"
     ]
    },
    {
     "name": "stderr",
     "output_type": "stream",
     "text": [
      "100%|██████████| 200/200 [00:01<00:00, 148.63it/s]\n",
      "100%|██████████| 200/200 [00:01<00:00, 153.50it/s]\n",
      "100%|██████████| 200/200 [00:01<00:00, 149.39it/s]\n",
      "100%|██████████| 200/200 [00:01<00:00, 149.92it/s]\n",
      "100%|██████████| 200/200 [00:01<00:00, 151.03it/s]\n"
     ]
    },
    {
     "name": "stdout",
     "output_type": "stream",
     "text": [
      "50\n"
     ]
    },
    {
     "name": "stderr",
     "output_type": "stream",
     "text": [
      "100%|██████████| 200/200 [00:01<00:00, 150.16it/s]\n",
      "100%|██████████| 200/200 [00:01<00:00, 156.21it/s]\n",
      "100%|██████████| 200/200 [00:01<00:00, 152.36it/s]\n",
      "100%|██████████| 200/200 [00:01<00:00, 154.41it/s]\n",
      "100%|██████████| 200/200 [00:01<00:00, 155.05it/s]\n"
     ]
    }
   ],
   "source": [
    "# sample precision matrices through the proposed Conditional Matrix Flows\n",
    "# here we load the trained models (which can be obtained by running 'main.py')\n",
    "lamb_min_exp, lamb_max_exp = 0, 2\n",
    "p_min, p_max = .1, 1.5\n",
    "T0, Tn = 5, 1\n",
    "epochs = 5001\n",
    "\n",
    "cmf = []\n",
    "for i_X, (X, seed) in enumerate(zip(X_list, seeds)):\n",
    "    print('='*30, ' ', i_X, ' ', '='*30)\n",
    "    flow_n_samples =[]\n",
    "    for n in n_samples:\n",
    "        print(n)\n",
    "        X_ = X[:n]\n",
    "        X_ /= X_.std(0)\n",
    "        S = np.cov(X_, rowvar=False)\n",
    "        S_torch = torch.from_numpy(S).float().cuda()\n",
    "        file_name = f'd{d}_n{n}_e{epochs}_pmin{p_min}_pmax{p_max}_lmin{lamb_min_exp}_lmax{lamb_max_exp}_seed{seed}'\n",
    "        folder_name = \"./models_boxplots/\"\n",
    "        flow_state_dict = torch.load(f\"{folder_name}/cmf_{file_name}\"+f\"_T1.000\")\n",
    "        flow = utils_mcf.build_positive_definite_vector(d, context_features=32, n_layers=3)\n",
    "        flow.load_state_dict(flow_state_dict)\n",
    "        flow.eval()\n",
    "\n",
    "        f = open(f\"{folder_name}/cmf_{file_name}.txt\", \"r\") \n",
    "        alpha = float(f.read()) * n / 2\n",
    "        log_alpha = np.log10(alpha) \n",
    "\n",
    "        p = torch.tensor(1.).cuda()\n",
    "        flow_p_samples = []\n",
    "        for p_value in p_values:\n",
    "            flow_samples_, _, _, _, _, _, _, lambda_sorted = utils_mcf.sample_W_fixed_p(flow, S_torch, p=p*p_value, n=n, T=Tn, context_size=1, sample_size=5, lambda_min_exp=log_alpha, lambda_max_exp=log_alpha)\n",
    "            flow_samples_ = flow_samples_.reshape(-1, d, d)\n",
    "            flow_p_samples.append(flow_samples_)\n",
    "        flow_n_samples.append(flow_p_samples)\n",
    "    cmf.append(flow_n_samples)\n",
    "np.save(\"cmf.npy\", cmf)\n",
    "del flow"
   ],
   "id": "5aa5437a03945dc1"
  },
  {
   "cell_type": "markdown",
   "metadata": {},
   "source": [
    "### Bayesian Graphical Lasso"
   ],
   "id": "aed23fa5fb4a9b2e"
  },
  {
   "cell_type": "code",
   "execution_count": null,
   "metadata": {},
   "outputs": [],
   "source": [
    "# sample precision matrices with the Bayesian Graphical Lasso approach by Wang (2012)\n",
    "BayesianGLasso = rpackages.importr('BayesianGLasso')\n",
    "\n",
    "ones = np.ones((1000, d, d))\n",
    "bayes_glasso_samples = []\n",
    "start_time = time.time()\n",
    "for n in n_samples:\n",
    "    print('+'*40, ' ', n, ' ', '+'*40)\n",
    "    precisions = []\n",
    "    for X in X_list:\n",
    "        X_ = X[:n]\n",
    "        X_ /= X_.std(0)\n",
    "        %R -i X_ -o BayesGLasso BayesGLasso <- blockGLasso(X=X_, iterations=4000, burnIn=1000, lambdaPriora=1, lambdaPriorb=.1)\n",
    "        BayesGlasso_prec = [value for i, (key, value) in enumerate(BayesGLasso['Omegas'].items()) if i+1>1000 and (i+1)%4==0]\n",
    "        precisions.append(np.array(BayesGlasso_prec))\n",
    "        print(\"--- %s seconds ---\" % (time.time() - start_time))\n",
    "    np.save(f\"bayes_glasso_samples_{n}.npy\", np.array(precisions, dtype=object))\n",
    "    bayes_glasso_samples.append(precisions)\n",
    "bayes_glasso_samples = np.array(bayes_glasso_samples, dtype=object)\n",
    "np.save(\"bayes_glasso_samples.npy\", bayes_glasso_samples)"
   ],
   "id": "d2af69d9608bf87d"
  },
  {
   "cell_type": "markdown",
   "metadata": {},
   "source": [
    "### Frequentist approach: GMMs with Nonconvex Regularization\n",
    "\n",
    "Precision matrix reconstruction through two classes of penalties\n",
    "\n",
    "- l0 approximations:  \n",
    "    - Atan (\"atan\") by Wang and Zhu (2016) \n",
    "    - Seamless L0 (\"selo\") by Dicker et al. (2013)\n",
    "    - Exponential (\"exp\") by Wang et al. (2018)\n",
    "    - Log (\"log\") by Mazumder et al. (2011)\n",
    "    - SICA (\"sica\") by Lv and Fan (2009)\n",
    "\n",
    "\n",
    "- additional penalties(smooth interpolation between l0 and l1):\n",
    "    - SCAD (\"scad\") by Fan and Li (2001)\n",
    "    - MC+ (\"mcp\") by Zhang (2010)\n",
    "    - Adaptive lasso (\"adapt\") by Zou (2006)"
   ],
   "id": "2623e45b7e07effd"
  },
  {
   "cell_type": "code",
   "execution_count": null,
   "metadata": {},
   "outputs": [],
   "source": [
    "# for more details see the R package 'GGMncv'\n",
    "# through the proposed Conditional Matrix Flows\n",
    "GGmncv = rpackages.importr('GGMncv')\n",
    "penalties = ['atan', 'selo', 'exp', 'log', 'sica', 'scad', 'mcp', 'adapt', 'lasso']\n",
    "ggmncv = {}\n",
    "left_outs = dict(zip(penalties, [0,0,2,0,0,3,4,0,0]))\n",
    "for penalty in penalties:\n",
    "    print('='*30, ' ', penalty, ' ', '='*30)\n",
    "    samples = []\n",
    "    for n in n_samples[left_outs[penalty]:]:\n",
    "        print('+'*20, ' ', n, ' ', '+'*20)\n",
    "        precisions = []    \n",
    "        for X in X_list:\n",
    "            X_ = X[:n]\n",
    "            X_ /= X_.std(0)\n",
    "            S = np.corrcoef(X_, rowvar=False)\n",
    "            %R -i S -i n -i d -i penalty -i X_ -o fit fit <- ggmncv(S, n=n, progress = FALSE, penalty=penalty, initial=ledoit_wolf, Y=X_)\n",
    "            precisions.append(fit['Theta'])\n",
    "        samples.append(precisions)\n",
    "    ggmncv[penalty] = np.arrays(samples)\n",
    "np.save(\"ggmncv.npy\", ggmncv)"
   ],
   "id": "7ff9174aeaba8f00"
  },
  {
   "cell_type": "markdown",
   "metadata": {},
   "source": [
    "### Results comparison"
   ],
   "id": "bc688a2233bb00da"
  },
  {
   "cell_type": "code",
   "execution_count": 9,
   "metadata": {
    "ExecuteTime": {
     "end_time": "2023-10-26T17:18:12.437302050Z",
     "start_time": "2023-10-26T17:18:12.382417558Z"
    }
   },
   "outputs": [],
   "source": [
    "#can choose from a variety of scores: e.g. 'f1', 'accuracy', 'precision' etc.\n",
    "score = 'f1'"
   ],
   "id": "8f4480d71c27e89b"
  },
  {
   "cell_type": "code",
   "execution_count": 13,
   "metadata": {
    "scrolled": true,
    "ExecuteTime": {
     "end_time": "2023-10-26T17:22:52.412812052Z",
     "start_time": "2023-10-26T17:22:24.445018233Z"
    }
   },
   "outputs": [
    {
     "name": "stdout",
     "output_type": "stream",
     "text": [
      "computing scores for Conditional Matrix Flow...\n",
      "computing scores for Bayesian Graphical Lasso...\n",
      "computing scores for GGMncv...\n"
     ]
    }
   ],
   "source": [
    "# credibility intervals\n",
    "conf_bayes = 0.9\n",
    "conf_flow = 0.9\n",
    "glasso_scores = []\n",
    "\n",
    "settings = dict(thresholding=False, eps=1e-2, no_diagonal=False)\n",
    "\n",
    "print('computing scores for Conditional Matrix Flow...')\n",
    "cmf = np.load('cmf.npy', allow_pickle=True)\n",
    "cmf_scores = []\n",
    "for i_p in range(len(p_values)):\n",
    "    p_scores = []\n",
    "    for i_n in range(len(n_samples)):\n",
    "        n_scores = []\n",
    "        for i_x, W in enumerate(W_list[:4]):\n",
    "            n = n_samples[i_n]\n",
    "            samples = cmf[i_x][i_n][i_p]\n",
    "            qleft = np.quantile(samples, 0.5 - conf_flow*0.5, 0)\n",
    "            qright = np.quantile(samples, 0.5 + conf_flow*0.5, 0)\n",
    "            signif_edge = qleft * qright > 0\n",
    "            signed_signif = np.sign(qleft) * signif_edge\n",
    "            error = structure_error(W, signed_signif, **settings)[score]\n",
    "            n_scores.append(error)\n",
    "        p_scores.append(n_scores)\n",
    "    cmf_scores.append(p_scores)\n",
    "cmf_scores = np.array(cmf_scores)\n",
    "\n",
    "print('computing scores for Bayesian Graphical Lasso...')\n",
    "bayes_glasso_samples = np.load('bayes_glasso_samples.npy', allow_pickle=True)\n",
    "bayes_glasso_scores = []\n",
    "for i_n in range(len(n_samples[1::2])):\n",
    "    n = n_samples[i_n]\n",
    "    error = []\n",
    "    for i_W, W in enumerate(W_list):\n",
    "        samples = bayes_glasso_samples[i_n][i_W]\n",
    "        qleft = np.quantile(samples, 0.5 - conf_bayes*0.5, 0)\n",
    "        qright = np.quantile(samples, 0.5 + conf_bayes*0.5, 0)\n",
    "        signif_edge = qleft * qright > 0\n",
    "        signed_signif = np.sign(qleft) * signif_edge\n",
    "        error_ = structure_error(W, signed_signif, **settings)[score]\n",
    "        error.append(error_)\n",
    "    bayes_glasso_scores.append(error)\n",
    "bayes_glasso_scores = np.array(bayes_glasso_scores)\n",
    "    \n",
    "print('computing scores for GGMncv...')\n",
    "ggmncv = np.load('ggmncv.npy', allow_pickle=True)[()]\n",
    "ggmncv_scores = {}\n",
    "for penalty in penalties:\n",
    "    n_scores = []\n",
    "    for i_n in range(len(n_samples[left_outs[penalty]:])):\n",
    "        n = n_samples[i_n]\n",
    "        error = [ structure_error(W, ggmncv[penalty][i_n][i_W], **settings)[score] for i_W, W in enumerate(W_list)]\n",
    "        n_scores.append(error)\n",
    "    ggmncv_scores[penalty] = np.array(n_scores)"
   ],
   "id": "ba20334d2cc30bbf"
  },
  {
   "cell_type": "code",
   "execution_count": 15,
   "metadata": {
    "ExecuteTime": {
     "end_time": "2023-10-26T17:23:06.636772881Z",
     "start_time": "2023-10-26T17:23:06.515172537Z"
    }
   },
   "outputs": [],
   "source": [
    "# convert to dataframe to use sns.boxplots\n",
    "df_cmf_dict = {}\n",
    "for i_p, p_value in enumerate(p_values):\n",
    "    df_cmf = pd.DataFrame(cmf_scores[i_p].T, columns=n_samples).assign(model=f\"CMF ($p$={p_value})\")\n",
    "    df_cmf_dict[p_value] = df_cmf\n",
    "\n",
    "df_bayes_glasso = pd.DataFrame(bayes_glasso_scores.T, columns = n_samples[1::2]).assign(model='BGL')\n",
    "\n",
    "df_ggmncv_dict = {}\n",
    "for penalty in penalties:\n",
    "    df_ggmncv =pd.DataFrame(ggmncv_scores[penalty].T, columns = n_samples[left_outs[penalty]:]).assign(model=penalty)\n",
    "    df_ggmncv_dict[penalty] = df_ggmncv"
   ],
   "id": "774b6bb062578bef"
  },
  {
   "cell_type": "markdown",
   "source": [
    "#### Conditional Matrix Flow vs frequentist GGMs with l0 approximation penalty"
   ],
   "metadata": {
    "collapsed": false
   },
   "id": "464aac5ed931aad2"
  },
  {
   "cell_type": "code",
   "execution_count": 13,
   "metadata": {},
   "outputs": [
    {
     "data": {
      "image/png": "[encoded data removed]",
      "text/plain": [
       "<Figure size 960x400 with 1 Axes>"
      ]
     },
     "metadata": {
      "needs_background": "light"
     },
     "output_type": "display_data"
    }
   ],
   "source": [
    "penalties = ['atan', 'selo', 'exp', 'log', 'sica', 'scad', 'mcp', 'adapt', 'lasso']\n",
    "cdf = pd.concat([df_cmf_dict[p_values[1]], df_ggmncv_dict['atan'], df_ggmncv_dict['log'], df_ggmncv_dict['selo'], \n",
    "                 df_ggmncv_dict['sica']])#,  df_ggmncv_dict['exp']])\n",
    "mdf = pd.melt(cdf, id_vars=['model'], var_name='# samples', value_name=score)\n",
    "plt.figure(figsize=(12, 5), dpi=80)\n",
    "mdf_subset = mdf.loc[mdf['# samples'].isin([15,25,35,45])]\n",
    "ax = sns.boxplot(x=\"# samples\", y=score, hue=\"model\", data=mdf_subset)  # RUN PLOT\n",
    "plt.xticks(fontsize=14)\n",
    "plt.yticks([0.3,0.4,0.5,0.6,0.7], fontsize=14)\n",
    "plt.xlabel('# samples', fontsize=18)\n",
    "plt.ylabel('F1', fontsize=18)\n",
    "# plt.savefig(f\"box_plot_{score}_flow_l0ncv.pdf\", dpi=200,  bbox_inches='tight')\n",
    "plt.show()"
   ],
   "id": "2a1facf9bf8d86f6"
  },
  {
   "cell_type": "markdown",
   "metadata": {},
   "source": [
    "#### Conditional Matrix Flow (with p<1) vs Bayesian Graphical Lasso"
   ],
   "id": "d7d204702340747c"
  },
  {
   "cell_type": "code",
   "execution_count": 15,
   "metadata": {},
   "outputs": [
    {
     "data": {
      "image/png": "[encoded data removed]",
      "text/plain": [
       "<Figure size 960x400 with 1 Axes>"
      ]
     },
     "metadata": {
      "needs_background": "light"
     },
     "output_type": "display_data"
    }
   ],
   "source": [
    "palette_tab10 = sns.color_palette(\"tab10\", 10)\n",
    "palette_blue = list(sns.light_palette(palette_tab10[0], n_colors=6))[::-1][:4]\n",
    "palette_salmon = list(sns.light_palette(palette_tab10[1], n_colors=6))[::-1][:1]\n",
    "palette = palette_blue + palette_salmon\n",
    "\n",
    "cdf = pd.concat([df_cmf_dict[p_values[1]], df_cmf_dict[p_values[2]], \n",
    "                 df_cmf_dict[p_values[3]], df_cmf_dict[p_values[4]], df_bayes_glasso])                                # CONCATENATE\n",
    "mdf = pd.melt(cdf, id_vars=['model'], var_name='# samples', value_name=score)\n",
    "plt.figure(figsize=(12, 5), dpi=80)\n",
    "mdf_subset = mdf.loc[mdf['# samples'].isin([15,25,35,45])]\n",
    "ax = sns.boxplot(x=\"# samples\", y=score, hue=\"model\", data=mdf_subset, palette=palette)  # RUN PLOT\n",
    "plt.xticks(fontsize=14)\n",
    "plt.yticks([0.3,0.4,0.5,0.6,0.7], fontsize=14)\n",
    "plt.xlabel('# samples', fontsize=18)\n",
    "plt.ylabel('F1', fontsize=18)\n",
    "# plt.savefig(f\"box_plot_{score}_flow_bayes_glasso.pdf\", dpi=200,  bbox_inches='tight')\n",
    "plt.show()"
   ],
   "id": "435386a470e3c841"
  },
  {
   "cell_type": "markdown",
   "metadata": {},
   "source": [
    "#### Conditional Matrix Flow (with p<1) vs SCAD, MC+ and Adaptive lasso (as a function of $\\gamma$)"
   ],
   "id": "a5688689e7dba610"
  },
  {
   "cell_type": "code",
   "execution_count": 34,
   "metadata": {},
   "outputs": [],
   "source": [
    "# select gamma for each method. We start from the minimal working gamma in each setting\n",
    "gamma_dict = dict(scad= [3.5,4,5,10,100], \n",
    "                  mcp= [2,3,4,10,100],#,3.5,10,100]\n",
    "                  adapt= [0.1,0.2,0.3,0.5,1])#,0.3,0.5,1])"
   ],
   "id": "36ba477647814968"
  },
  {
   "cell_type": "code",
   "execution_count": null,
   "metadata": {},
   "outputs": [],
   "source": [
    "GGmncv = rpackages.importr('GGMncv')\n",
    "ggmncv_gamma = {}\n",
    "left_outs = dict(zip(penalties[-4:-1], [3,4,0]))\n",
    "for penalty in penalties[-4:-1]:\n",
    "    print('='*30, ' ', penalty, ' ', '='*30)\n",
    "    gamma_list = {}\n",
    "    for gamma in gamma_dict[penalty]:\n",
    "        print('-'*20, ' ', gamma, ' ', '-'*20)\n",
    "        sample_list = []\n",
    "        for n in n_samples[left_outs[penalty]:]:\n",
    "            print('+'*20, ' ', n, ' ', '+'*20)\n",
    "            prec_list = []    \n",
    "            for X in X_list:\n",
    "                X_ = X[:n]\n",
    "                X_ /= X_.std(0)\n",
    "                S = np.corrcoef(X_, rowvar=False)\n",
    "                %R -i S -i n -i d -i penalty -i X_ -i gamma -o fit fit <- ggmncv(S, n=n, progress = FALSE, penalty=penalty, initial=ledoit_wolf, Y=X_, gamma=gamma)\n",
    "                prec_list.append(fit['Theta'])\n",
    "            sample_list.append(prec_list)\n",
    "        gamma_list[gamma] = np.array(sample_list)\n",
    "    ggmncv_gamma[penalty] = gamma_list\n",
    "np.save(\"ggmncv_gamma.npy\", ggmncv_gamma)"
   ],
   "id": "5cd7022fb6b08ff5"
  },
  {
   "cell_type": "code",
   "execution_count": 41,
   "metadata": {},
   "outputs": [
    {
     "name": "stdout",
     "output_type": "stream",
     "text": [
      "computing scores for GGMncv gamma...\n"
     ]
    }
   ],
   "source": [
    "print('computing scores for GGMncv gamma...')\n",
    "ggmncv_gamma = np.load('ggmncv_gamma.npy', allow_pickle=True)[()]\n",
    "ggmncv_gamma_score = {}\n",
    "for penalty in penalties[-4:-1]:\n",
    "    gamma_score = {}\n",
    "    for gamma in gamma_dict[penalty]:\n",
    "        n_scores = []\n",
    "        for i_n in range(len(n_samples[left_outs[penalty]:])):\n",
    "            n = n_samples[i_n]\n",
    "            error = [ structure_error(W, ggmncv_gamma[penalty][gamma][i_n][i_W], \n",
    "                                      **settings)[score] for i_W, W in enumerate(W_list)]\n",
    "            n_scores.append(error)\n",
    "        gamma_score[gamma] = np.array(n_scores)\n",
    "    ggmncv_gamma_score[penalty] = gamma_score"
   ],
   "id": "89376c6de0c2f324"
  },
  {
   "cell_type": "markdown",
   "metadata": {},
   "source": [
    "#### Conditional Matrix Flow (with p<1) vs adaptive Lasso"
   ],
   "id": "e8b10b906b5b739b"
  },
  {
   "cell_type": "code",
   "execution_count": 90,
   "metadata": {},
   "outputs": [
    {
     "data": {
      "image/png": "[encoded data removed]",
      "text/plain": [
       "<Figure size 960x400 with 1 Axes>"
      ]
     },
     "metadata": {
      "needs_background": "light"
     },
     "output_type": "display_data"
    }
   ],
   "source": [
    "penalty = 'adapt'\n",
    "\n",
    "palette_blue = list(sns.light_palette(palette_tab10[0], n_colors=6))[::-1][:4]\n",
    "palette_salmon = list(sns.light_palette(palette_tab10[1], n_colors=6))[::-1][:4]\n",
    "palette = palette_blue + palette_salmon\n",
    "\n",
    "df_ggmncv_gamma_dict = {}\n",
    "for gamma in gamma_dict[penalty]:\n",
    "    df_ggmncv = pd.DataFrame(ggmncv_gamma_score[penalty][gamma].T, \n",
    "                            columns = n_samples[left_outs[penalty]:]).assign(model=f\"{penalty} ($\\gamma$={gamma})\")\n",
    "    df_ggmncv_gamma_dict[gamma] = df_ggmncv\n",
    "\n",
    "cdf = pd.concat([df_cmf_dict[p_values[1]], df_cmf_dict[p_values[2]], \n",
    "                 df_cmf_dict[p_values[3]], df_cmf_dict[p_values[4]], \n",
    "                 df_ggmncv_gamma_dict[gamma_dict[penalty][0]], df_ggmncv_gamma_dict[gamma_dict[penalty][2]], \n",
    "                 df_ggmncv_gamma_dict[gamma_dict[penalty][3]], df_ggmncv_gamma_dict[gamma_dict[penalty][4]]])\n",
    "mdf = pd.melt(cdf, id_vars=['model'], var_name='# samples', value_name=score)\n",
    "plt.figure(figsize=(12, 5), dpi=80)\n",
    "mdf_subset = mdf.loc[mdf['# samples'].isin([15,25,35,45])]\n",
    "ax = sns.boxplot(x=\"# samples\", y=score, hue=\"model\", data=mdf_subset, palette=palette)\n",
    "plt.xticks(fontsize=14)\n",
    "plt.yticks([0.3,0.4,0.5,0.6,0.7], fontsize=14)\n",
    "plt.xlabel('# samples', fontsize=18)\n",
    "plt.ylabel('F1', fontsize=18)\n",
    "plt.legend(ncol=2, loc='lower center')\n",
    "plt.legend(ncol=2, loc='upper left')\n",
    "# plt.savefig(f\"box_plot_{score}_flow_{penalty}_.pdf\", dpi=200,  bbox_inches='tight')\n",
    "plt.show()"
   ],
   "id": "38ee20e462d18993"
  },
  {
   "cell_type": "markdown",
   "metadata": {},
   "source": [
    "#### Conditional Matrix Flow (with p<1) vs SCAD"
   ],
   "id": "854cf457c67f8af9"
  },
  {
   "cell_type": "code",
   "execution_count": 79,
   "metadata": {},
   "outputs": [
    {
     "data": {
      "image/png": "[encoded data removed]",
      "text/plain": [
       "<Figure size 960x400 with 1 Axes>"
      ]
     },
     "metadata": {
      "needs_background": "light"
     },
     "output_type": "display_data"
    }
   ],
   "source": [
    "penalty = 'scad'\n",
    "\n",
    "palette_blue = list(sns.light_palette(palette_tab10[0], n_colors=6))[::-1][:4]\n",
    "palette_salmon = list(sns.light_palette(palette_tab10[1], n_colors=6))[::-1][:4]\n",
    "palette = palette_blue + palette_salmon\n",
    "\n",
    "df_ggmncv_gamma_dict = {}\n",
    "for gamma in gamma_dict[penalty]:\n",
    "    df_ggmncv = pd.DataFrame(ggmncv_gamma_score[penalty][gamma].T, \n",
    "                            columns = n_samples[left_outs[penalty]:]).assign(model=f\"{penalty} ($\\gamma$={gamma})\")\n",
    "    df_ggmncv_gamma_dict[gamma] = df_ggmncv\n",
    "\n",
    "cdf = pd.concat([df_cmf_dict[p_values[1]], df_cmf_dict[p_values[2]], \n",
    "                 df_cmf_dict[p_values[3]], df_cmf_dict[p_values[4]], \n",
    "                 df_ggmncv_gamma_dict[gamma_dict[penalty][0]], df_ggmncv_gamma_dict[gamma_dict[penalty][2]], \n",
    "                 df_ggmncv_gamma_dict[gamma_dict[penalty][3]], df_ggmncv_gamma_dict[gamma_dict[penalty][4]]])\n",
    "mdf = pd.melt(cdf, id_vars=['model'], var_name='# samples', value_name='f1')\n",
    "plt.figure(figsize=(12, 5), dpi=80)\n",
    "mdf_subset = mdf.loc[mdf['# samples'].isin([15,25,35,45])]\n",
    "ax = sns.boxplot(x=\"# samples\", y=score, hue=\"model\", data=mdf_subset, palette=palette)\n",
    "plt.title(penalty)\n",
    "plt.xticks(fontsize=14)\n",
    "plt.yticks([0.3,0.4,0.5,0.6,0.7], fontsize=14)\n",
    "plt.xlabel('# samples', fontsize=18)\n",
    "plt.ylabel(score, fontsize=18)\n",
    "plt.legend(ncol=2, loc='lower right')\n",
    "# plt.savefig(f\"box_plot_{score}_flow_{penalty}_.pdf\", dpi=200,  bbox_inches='tight')\n",
    "plt.show()"
   ],
   "id": "1ceacb7629925fc8"
  },
  {
   "cell_type": "markdown",
   "metadata": {},
   "source": [
    "#### Conditional Matrix Flow (with p<1) vs MC+"
   ],
   "id": "78bc608ecea995d8"
  },
  {
   "cell_type": "code",
   "execution_count": 74,
   "metadata": {},
   "outputs": [
    {
     "data": {
      "image/png": "[encoded data removed]",
      "text/plain": [
       "<Figure size 960x400 with 1 Axes>"
      ]
     },
     "metadata": {
      "needs_background": "light"
     },
     "output_type": "display_data"
    }
   ],
   "source": [
    "penalty = 'mcp'\n",
    "\n",
    "palette_blue = list(sns.light_palette(palette_tab10[0], n_colors=6))[::-1][:4]\n",
    "palette_salmon = list(sns.light_palette(palette_tab10[1], n_colors=6))[::-1][:4]\n",
    "palette = palette_blue + palette_salmon\n",
    "\n",
    "df_ggmncv_gamma_dict = {}\n",
    "for gamma in gamma_dict[penalty]:\n",
    "    df_ggmncv = pd.DataFrame(ggmncv_gamma_score[penalty][gamma].T, \n",
    "                            columns = n_samples[left_outs[penalty]:]).assign(model=f\"{penalty} ($\\gamma$={gamma})\")\n",
    "    df_ggmncv_gamma_dict[gamma] = df_ggmncv\n",
    "\n",
    "cdf = pd.concat([df_cmf_dict[p_values[1]], df_cmf_dict[p_values[2]], \n",
    "                 df_cmf_dict[p_values[3]], df_cmf_dict[p_values[4]], \n",
    "                 df_ggmncv_gamma_dict[gamma_dict[penalty][0]], df_ggmncv_gamma_dict[gamma_dict[penalty][2]], \n",
    "                 df_ggmncv_gamma_dict[gamma_dict[penalty][3]], df_ggmncv_gamma_dict[gamma_dict[penalty][4]]])\n",
    "mdf = pd.melt(cdf, id_vars=['model'], var_name='# samples', value_name=score)\n",
    "plt.figure(figsize=(12, 5), dpi=80)\n",
    "mdf_subset = mdf.loc[mdf['# samples'].isin([15,25,35,45])]\n",
    "ax = sns.boxplot(x=\"# samples\", y=score, hue=\"model\", data=mdf_subset, palette=palette)\n",
    "plt.title(penalty)\n",
    "plt.xticks(fontsize=14)\n",
    "plt.yticks([0.3,0.4,0.5,0.6,0.7], fontsize=14)\n",
    "plt.xlabel('# samples', fontsize=18)\n",
    "plt.ylabel(score, fontsize=18)\n",
    "plt.legend(ncol=2, loc='upper left')\n",
    "# plt.savefig(f\"box_plot_{score}_flow_{penalty}_.pdf\", dpi=200,  bbox_inches='tight')\n",
    "plt.show()"
   ],
   "id": "752e2531195bb0b8"
  },
  {
   "cell_type": "code",
   "execution_count": null,
   "metadata": {},
   "outputs": [],
   "source": [],
   "id": "2bf51098d0f669fb"
  }
 ],
 "metadata": {
  "kernelspec": {
   "display_name": "cond_flow",
   "language": "python",
   "name": "cond_flow"
  },
  "language_info": {
   "codemirror_mode": {
    "name": "ipython",
    "version": 3
   },
   "file_extension": ".py",
   "mimetype": "text/x-python",
   "name": "python",
   "nbconvert_exporter": "python",
   "pygments_lexer": "ipython3",
   "version": "3.8.0"
  }
 },
 "nbformat": 4,
 "nbformat_minor": 5
}
